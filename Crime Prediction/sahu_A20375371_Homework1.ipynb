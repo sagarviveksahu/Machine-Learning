{
 "cells": [
  {
   "cell_type": "markdown",
   "metadata": {},
   "source": [
    "# CS584 MACHINE LEARNING PROJECT\n",
    "## CRIME PREDICTION"
   ]
  },
  {
   "cell_type": "markdown",
   "metadata": {},
   "source": [
    "Importing all the necessary packages"
   ]
  },
  {
   "cell_type": "code",
   "execution_count": 1,
   "metadata": {
    "collapsed": true
   },
   "outputs": [],
   "source": [
    "import pandas as pd\n",
    "import numpy as np\n",
    "from sklearn.model_selection import train_test_split,cross_val_score\n",
    "from sklearn.tree import DecisionTreeClassifier\n",
    "from sklearn.metrics import classification_report,confusion_matrix,accuracy_score\n",
    "from sklearn.naive_bayes import GaussianNB\n",
    "from sklearn.svm import LinearSVC\n",
    "from sklearn.linear_model import LinearRegression\n",
    "from sklearn.preprocessing import Imputer\n",
    "from sklearn.linear_model import RidgeCV\n",
    "from sklearn.preprocessing import PolynomialFeatures\n",
    "from sklearn.pipeline import Pipeline\n",
    "from sklearn import metrics\n",
    "import matplotlib.pyplot as plt\n",
    "%matplotlib inline"
   ]
  },
  {
   "cell_type": "markdown",
   "metadata": {},
   "source": [
    "Loading the dataset"
   ]
  },
  {
   "cell_type": "code",
   "execution_count": 2,
   "metadata": {
    "collapsed": false
   },
   "outputs": [
    {
     "data": {
      "text/html": [
       "<div>\n",
       "<table border=\"1\" class=\"dataframe\">\n",
       "  <thead>\n",
       "    <tr style=\"text-align: right;\">\n",
       "      <th></th>\n",
       "      <th>state</th>\n",
       "      <th>communityname</th>\n",
       "      <th>fold</th>\n",
       "      <th>population</th>\n",
       "      <th>householdsize</th>\n",
       "      <th>racepctblack</th>\n",
       "      <th>racePctWhite</th>\n",
       "      <th>racePctAsian</th>\n",
       "      <th>racePctHisp</th>\n",
       "      <th>agePct12t21</th>\n",
       "      <th>...</th>\n",
       "      <th>PctForeignBorn</th>\n",
       "      <th>PctBornSameState</th>\n",
       "      <th>PctSameHouse85</th>\n",
       "      <th>PctSameCity85</th>\n",
       "      <th>PctSameState85</th>\n",
       "      <th>LandArea</th>\n",
       "      <th>PopDens</th>\n",
       "      <th>PctUsePubTrans</th>\n",
       "      <th>LemasPctOfficDrugUn</th>\n",
       "      <th>ViolentCrimesPerPop</th>\n",
       "    </tr>\n",
       "  </thead>\n",
       "  <tbody>\n",
       "    <tr>\n",
       "      <th>0</th>\n",
       "      <td>1</td>\n",
       "      <td>Alabastercity</td>\n",
       "      <td>7</td>\n",
       "      <td>0.01</td>\n",
       "      <td>0.61</td>\n",
       "      <td>0.21</td>\n",
       "      <td>0.83</td>\n",
       "      <td>0.02</td>\n",
       "      <td>0.01</td>\n",
       "      <td>0.41</td>\n",
       "      <td>...</td>\n",
       "      <td>0.03</td>\n",
       "      <td>0.70</td>\n",
       "      <td>0.40</td>\n",
       "      <td>0.34</td>\n",
       "      <td>0.57</td>\n",
       "      <td>0.05</td>\n",
       "      <td>0.06</td>\n",
       "      <td>0.01</td>\n",
       "      <td>0.0</td>\n",
       "      <td>0.06</td>\n",
       "    </tr>\n",
       "    <tr>\n",
       "      <th>1</th>\n",
       "      <td>1</td>\n",
       "      <td>AlexanderCitycity</td>\n",
       "      <td>10</td>\n",
       "      <td>0.01</td>\n",
       "      <td>0.41</td>\n",
       "      <td>0.55</td>\n",
       "      <td>0.57</td>\n",
       "      <td>0.01</td>\n",
       "      <td>0.00</td>\n",
       "      <td>0.47</td>\n",
       "      <td>...</td>\n",
       "      <td>0.00</td>\n",
       "      <td>0.93</td>\n",
       "      <td>0.66</td>\n",
       "      <td>0.82</td>\n",
       "      <td>0.84</td>\n",
       "      <td>0.11</td>\n",
       "      <td>0.03</td>\n",
       "      <td>0.01</td>\n",
       "      <td>0.0</td>\n",
       "      <td>0.14</td>\n",
       "    </tr>\n",
       "    <tr>\n",
       "      <th>2</th>\n",
       "      <td>1</td>\n",
       "      <td>Annistoncity</td>\n",
       "      <td>3</td>\n",
       "      <td>0.03</td>\n",
       "      <td>0.34</td>\n",
       "      <td>0.86</td>\n",
       "      <td>0.30</td>\n",
       "      <td>0.04</td>\n",
       "      <td>0.01</td>\n",
       "      <td>0.41</td>\n",
       "      <td>...</td>\n",
       "      <td>0.04</td>\n",
       "      <td>0.77</td>\n",
       "      <td>0.59</td>\n",
       "      <td>0.70</td>\n",
       "      <td>0.64</td>\n",
       "      <td>0.06</td>\n",
       "      <td>0.11</td>\n",
       "      <td>0.04</td>\n",
       "      <td>0.0</td>\n",
       "      <td>1.00</td>\n",
       "    </tr>\n",
       "    <tr>\n",
       "      <th>3</th>\n",
       "      <td>1</td>\n",
       "      <td>Athenscity</td>\n",
       "      <td>8</td>\n",
       "      <td>0.01</td>\n",
       "      <td>0.38</td>\n",
       "      <td>0.35</td>\n",
       "      <td>0.71</td>\n",
       "      <td>0.04</td>\n",
       "      <td>0.01</td>\n",
       "      <td>0.39</td>\n",
       "      <td>...</td>\n",
       "      <td>0.03</td>\n",
       "      <td>0.78</td>\n",
       "      <td>0.56</td>\n",
       "      <td>0.67</td>\n",
       "      <td>0.71</td>\n",
       "      <td>0.09</td>\n",
       "      <td>0.05</td>\n",
       "      <td>0.00</td>\n",
       "      <td>0.0</td>\n",
       "      <td>0.23</td>\n",
       "    </tr>\n",
       "    <tr>\n",
       "      <th>4</th>\n",
       "      <td>1</td>\n",
       "      <td>Auburncity</td>\n",
       "      <td>1</td>\n",
       "      <td>0.04</td>\n",
       "      <td>0.37</td>\n",
       "      <td>0.32</td>\n",
       "      <td>0.70</td>\n",
       "      <td>0.21</td>\n",
       "      <td>0.02</td>\n",
       "      <td>1.00</td>\n",
       "      <td>...</td>\n",
       "      <td>0.12</td>\n",
       "      <td>0.49</td>\n",
       "      <td>0.12</td>\n",
       "      <td>0.00</td>\n",
       "      <td>0.15</td>\n",
       "      <td>0.09</td>\n",
       "      <td>0.09</td>\n",
       "      <td>0.01</td>\n",
       "      <td>0.0</td>\n",
       "      <td>0.15</td>\n",
       "    </tr>\n",
       "  </tbody>\n",
       "</table>\n",
       "<p>5 rows × 104 columns</p>\n",
       "</div>"
      ],
      "text/plain": [
       "   state      communityname  fold  population  householdsize  racepctblack  \\\n",
       "0      1      Alabastercity     7        0.01           0.61          0.21   \n",
       "1      1  AlexanderCitycity    10        0.01           0.41          0.55   \n",
       "2      1       Annistoncity     3        0.03           0.34          0.86   \n",
       "3      1         Athenscity     8        0.01           0.38          0.35   \n",
       "4      1         Auburncity     1        0.04           0.37          0.32   \n",
       "\n",
       "   racePctWhite  racePctAsian  racePctHisp  agePct12t21         ...           \\\n",
       "0          0.83          0.02         0.01         0.41         ...            \n",
       "1          0.57          0.01         0.00         0.47         ...            \n",
       "2          0.30          0.04         0.01         0.41         ...            \n",
       "3          0.71          0.04         0.01         0.39         ...            \n",
       "4          0.70          0.21         0.02         1.00         ...            \n",
       "\n",
       "   PctForeignBorn  PctBornSameState  PctSameHouse85  PctSameCity85  \\\n",
       "0            0.03              0.70            0.40           0.34   \n",
       "1            0.00              0.93            0.66           0.82   \n",
       "2            0.04              0.77            0.59           0.70   \n",
       "3            0.03              0.78            0.56           0.67   \n",
       "4            0.12              0.49            0.12           0.00   \n",
       "\n",
       "   PctSameState85  LandArea  PopDens  PctUsePubTrans  LemasPctOfficDrugUn  \\\n",
       "0            0.57      0.05     0.06            0.01                  0.0   \n",
       "1            0.84      0.11     0.03            0.01                  0.0   \n",
       "2            0.64      0.06     0.11            0.04                  0.0   \n",
       "3            0.71      0.09     0.05            0.00                  0.0   \n",
       "4            0.15      0.09     0.09            0.01                  0.0   \n",
       "\n",
       "   ViolentCrimesPerPop  \n",
       "0                 0.06  \n",
       "1                 0.14  \n",
       "2                 1.00  \n",
       "3                 0.23  \n",
       "4                 0.15  \n",
       "\n",
       "[5 rows x 104 columns]"
      ]
     },
     "execution_count": 2,
     "metadata": {},
     "output_type": "execute_result"
    }
   ],
   "source": [
    "CummCrime = pd.read_csv('communities-crime-clean.csv')\n",
    "CummCrime.head()"
   ]
  },
  {
   "cell_type": "markdown",
   "metadata": {},
   "source": [
    "Checking datatype of given columns"
   ]
  },
  {
   "cell_type": "code",
   "execution_count": 3,
   "metadata": {
    "collapsed": false
   },
   "outputs": [
    {
     "name": "stdout",
     "output_type": "stream",
     "text": [
      "<class 'pandas.core.frame.DataFrame'>\n",
      "RangeIndex: 1993 entries, 0 to 1992\n",
      "Columns: 104 entries, state to ViolentCrimesPerPop\n",
      "dtypes: float64(101), int64(2), object(1)\n",
      "memory usage: 1.6+ MB\n"
     ]
    }
   ],
   "source": [
    "CummCrime.info()"
   ]
  },
  {
   "cell_type": "markdown",
   "metadata": {},
   "source": [
    "Removing non-predictive features"
   ]
  },
  {
   "cell_type": "code",
   "execution_count": 4,
   "metadata": {
    "collapsed": false
   },
   "outputs": [
    {
     "data": {
      "text/html": [
       "<div>\n",
       "<table border=\"1\" class=\"dataframe\">\n",
       "  <thead>\n",
       "    <tr style=\"text-align: right;\">\n",
       "      <th></th>\n",
       "      <th>population</th>\n",
       "      <th>householdsize</th>\n",
       "      <th>racepctblack</th>\n",
       "      <th>racePctWhite</th>\n",
       "      <th>racePctAsian</th>\n",
       "      <th>racePctHisp</th>\n",
       "      <th>agePct12t21</th>\n",
       "      <th>agePct12t29</th>\n",
       "      <th>agePct16t24</th>\n",
       "      <th>agePct65up</th>\n",
       "      <th>...</th>\n",
       "      <th>PctForeignBorn</th>\n",
       "      <th>PctBornSameState</th>\n",
       "      <th>PctSameHouse85</th>\n",
       "      <th>PctSameCity85</th>\n",
       "      <th>PctSameState85</th>\n",
       "      <th>LandArea</th>\n",
       "      <th>PopDens</th>\n",
       "      <th>PctUsePubTrans</th>\n",
       "      <th>LemasPctOfficDrugUn</th>\n",
       "      <th>ViolentCrimesPerPop</th>\n",
       "    </tr>\n",
       "  </thead>\n",
       "  <tbody>\n",
       "    <tr>\n",
       "      <th>0</th>\n",
       "      <td>0.01</td>\n",
       "      <td>0.61</td>\n",
       "      <td>0.21</td>\n",
       "      <td>0.83</td>\n",
       "      <td>0.02</td>\n",
       "      <td>0.01</td>\n",
       "      <td>0.41</td>\n",
       "      <td>0.49</td>\n",
       "      <td>0.26</td>\n",
       "      <td>0.21</td>\n",
       "      <td>...</td>\n",
       "      <td>0.03</td>\n",
       "      <td>0.70</td>\n",
       "      <td>0.40</td>\n",
       "      <td>0.34</td>\n",
       "      <td>0.57</td>\n",
       "      <td>0.05</td>\n",
       "      <td>0.06</td>\n",
       "      <td>0.01</td>\n",
       "      <td>0.0</td>\n",
       "      <td>0.06</td>\n",
       "    </tr>\n",
       "    <tr>\n",
       "      <th>1</th>\n",
       "      <td>0.01</td>\n",
       "      <td>0.41</td>\n",
       "      <td>0.55</td>\n",
       "      <td>0.57</td>\n",
       "      <td>0.01</td>\n",
       "      <td>0.00</td>\n",
       "      <td>0.47</td>\n",
       "      <td>0.45</td>\n",
       "      <td>0.31</td>\n",
       "      <td>0.57</td>\n",
       "      <td>...</td>\n",
       "      <td>0.00</td>\n",
       "      <td>0.93</td>\n",
       "      <td>0.66</td>\n",
       "      <td>0.82</td>\n",
       "      <td>0.84</td>\n",
       "      <td>0.11</td>\n",
       "      <td>0.03</td>\n",
       "      <td>0.01</td>\n",
       "      <td>0.0</td>\n",
       "      <td>0.14</td>\n",
       "    </tr>\n",
       "    <tr>\n",
       "      <th>2</th>\n",
       "      <td>0.03</td>\n",
       "      <td>0.34</td>\n",
       "      <td>0.86</td>\n",
       "      <td>0.30</td>\n",
       "      <td>0.04</td>\n",
       "      <td>0.01</td>\n",
       "      <td>0.41</td>\n",
       "      <td>0.42</td>\n",
       "      <td>0.27</td>\n",
       "      <td>0.59</td>\n",
       "      <td>...</td>\n",
       "      <td>0.04</td>\n",
       "      <td>0.77</td>\n",
       "      <td>0.59</td>\n",
       "      <td>0.70</td>\n",
       "      <td>0.64</td>\n",
       "      <td>0.06</td>\n",
       "      <td>0.11</td>\n",
       "      <td>0.04</td>\n",
       "      <td>0.0</td>\n",
       "      <td>1.00</td>\n",
       "    </tr>\n",
       "    <tr>\n",
       "      <th>3</th>\n",
       "      <td>0.01</td>\n",
       "      <td>0.38</td>\n",
       "      <td>0.35</td>\n",
       "      <td>0.71</td>\n",
       "      <td>0.04</td>\n",
       "      <td>0.01</td>\n",
       "      <td>0.39</td>\n",
       "      <td>0.46</td>\n",
       "      <td>0.31</td>\n",
       "      <td>0.49</td>\n",
       "      <td>...</td>\n",
       "      <td>0.03</td>\n",
       "      <td>0.78</td>\n",
       "      <td>0.56</td>\n",
       "      <td>0.67</td>\n",
       "      <td>0.71</td>\n",
       "      <td>0.09</td>\n",
       "      <td>0.05</td>\n",
       "      <td>0.00</td>\n",
       "      <td>0.0</td>\n",
       "      <td>0.23</td>\n",
       "    </tr>\n",
       "    <tr>\n",
       "      <th>4</th>\n",
       "      <td>0.04</td>\n",
       "      <td>0.37</td>\n",
       "      <td>0.32</td>\n",
       "      <td>0.70</td>\n",
       "      <td>0.21</td>\n",
       "      <td>0.02</td>\n",
       "      <td>1.00</td>\n",
       "      <td>1.00</td>\n",
       "      <td>1.00</td>\n",
       "      <td>0.14</td>\n",
       "      <td>...</td>\n",
       "      <td>0.12</td>\n",
       "      <td>0.49</td>\n",
       "      <td>0.12</td>\n",
       "      <td>0.00</td>\n",
       "      <td>0.15</td>\n",
       "      <td>0.09</td>\n",
       "      <td>0.09</td>\n",
       "      <td>0.01</td>\n",
       "      <td>0.0</td>\n",
       "      <td>0.15</td>\n",
       "    </tr>\n",
       "  </tbody>\n",
       "</table>\n",
       "<p>5 rows × 101 columns</p>\n",
       "</div>"
      ],
      "text/plain": [
       "   population  householdsize  racepctblack  racePctWhite  racePctAsian  \\\n",
       "0        0.01           0.61          0.21          0.83          0.02   \n",
       "1        0.01           0.41          0.55          0.57          0.01   \n",
       "2        0.03           0.34          0.86          0.30          0.04   \n",
       "3        0.01           0.38          0.35          0.71          0.04   \n",
       "4        0.04           0.37          0.32          0.70          0.21   \n",
       "\n",
       "   racePctHisp  agePct12t21  agePct12t29  agePct16t24  agePct65up  \\\n",
       "0         0.01         0.41         0.49         0.26        0.21   \n",
       "1         0.00         0.47         0.45         0.31        0.57   \n",
       "2         0.01         0.41         0.42         0.27        0.59   \n",
       "3         0.01         0.39         0.46         0.31        0.49   \n",
       "4         0.02         1.00         1.00         1.00        0.14   \n",
       "\n",
       "          ...           PctForeignBorn  PctBornSameState  PctSameHouse85  \\\n",
       "0         ...                     0.03              0.70            0.40   \n",
       "1         ...                     0.00              0.93            0.66   \n",
       "2         ...                     0.04              0.77            0.59   \n",
       "3         ...                     0.03              0.78            0.56   \n",
       "4         ...                     0.12              0.49            0.12   \n",
       "\n",
       "   PctSameCity85  PctSameState85  LandArea  PopDens  PctUsePubTrans  \\\n",
       "0           0.34            0.57      0.05     0.06            0.01   \n",
       "1           0.82            0.84      0.11     0.03            0.01   \n",
       "2           0.70            0.64      0.06     0.11            0.04   \n",
       "3           0.67            0.71      0.09     0.05            0.00   \n",
       "4           0.00            0.15      0.09     0.09            0.01   \n",
       "\n",
       "   LemasPctOfficDrugUn  ViolentCrimesPerPop  \n",
       "0                  0.0                 0.06  \n",
       "1                  0.0                 0.14  \n",
       "2                  0.0                 1.00  \n",
       "3                  0.0                 0.23  \n",
       "4                  0.0                 0.15  \n",
       "\n",
       "[5 rows x 101 columns]"
      ]
     },
     "execution_count": 4,
     "metadata": {},
     "output_type": "execute_result"
    }
   ],
   "source": [
    "CummCrime = CummCrime.drop(['state','communityname','fold'],axis=1)\n",
    "CummCrime.head()"
   ]
  },
  {
   "cell_type": "code",
   "execution_count": 5,
   "metadata": {
    "collapsed": false
   },
   "outputs": [
    {
     "name": "stdout",
     "output_type": "stream",
     "text": [
      "<class 'pandas.core.frame.DataFrame'>\n",
      "RangeIndex: 1993 entries, 0 to 1992\n",
      "Columns: 101 entries, population to ViolentCrimesPerPop\n",
      "dtypes: float64(101)\n",
      "memory usage: 1.5 MB\n"
     ]
    }
   ],
   "source": [
    "CummCrime.info()"
   ]
  },
  {
   "cell_type": "markdown",
   "metadata": {},
   "source": [
    "### Decision Tree\n",
    "#### 1.a) Create a new field “highCrime” which is true if the crime rate per capita (ViolentCrimesPerPop) is greater than 0.1, and false otherwise. What are the percentage of positive and negative instances in the dataset?"
   ]
  },
  {
   "cell_type": "code",
   "execution_count": 6,
   "metadata": {
    "collapsed": false,
    "scrolled": true
   },
   "outputs": [
    {
     "data": {
      "text/html": [
       "<div>\n",
       "<table border=\"1\" class=\"dataframe\">\n",
       "  <thead>\n",
       "    <tr style=\"text-align: right;\">\n",
       "      <th></th>\n",
       "      <th>population</th>\n",
       "      <th>householdsize</th>\n",
       "      <th>racepctblack</th>\n",
       "      <th>racePctWhite</th>\n",
       "      <th>racePctAsian</th>\n",
       "      <th>racePctHisp</th>\n",
       "      <th>agePct12t21</th>\n",
       "      <th>agePct12t29</th>\n",
       "      <th>agePct16t24</th>\n",
       "      <th>agePct65up</th>\n",
       "      <th>...</th>\n",
       "      <th>PctBornSameState</th>\n",
       "      <th>PctSameHouse85</th>\n",
       "      <th>PctSameCity85</th>\n",
       "      <th>PctSameState85</th>\n",
       "      <th>LandArea</th>\n",
       "      <th>PopDens</th>\n",
       "      <th>PctUsePubTrans</th>\n",
       "      <th>LemasPctOfficDrugUn</th>\n",
       "      <th>ViolentCrimesPerPop</th>\n",
       "      <th>highCrime</th>\n",
       "    </tr>\n",
       "  </thead>\n",
       "  <tbody>\n",
       "    <tr>\n",
       "      <th>0</th>\n",
       "      <td>0.01</td>\n",
       "      <td>0.61</td>\n",
       "      <td>0.21</td>\n",
       "      <td>0.83</td>\n",
       "      <td>0.02</td>\n",
       "      <td>0.01</td>\n",
       "      <td>0.41</td>\n",
       "      <td>0.49</td>\n",
       "      <td>0.26</td>\n",
       "      <td>0.21</td>\n",
       "      <td>...</td>\n",
       "      <td>0.70</td>\n",
       "      <td>0.40</td>\n",
       "      <td>0.34</td>\n",
       "      <td>0.57</td>\n",
       "      <td>0.05</td>\n",
       "      <td>0.06</td>\n",
       "      <td>0.01</td>\n",
       "      <td>0.00</td>\n",
       "      <td>0.06</td>\n",
       "      <td>False</td>\n",
       "    </tr>\n",
       "    <tr>\n",
       "      <th>1</th>\n",
       "      <td>0.01</td>\n",
       "      <td>0.41</td>\n",
       "      <td>0.55</td>\n",
       "      <td>0.57</td>\n",
       "      <td>0.01</td>\n",
       "      <td>0.00</td>\n",
       "      <td>0.47</td>\n",
       "      <td>0.45</td>\n",
       "      <td>0.31</td>\n",
       "      <td>0.57</td>\n",
       "      <td>...</td>\n",
       "      <td>0.93</td>\n",
       "      <td>0.66</td>\n",
       "      <td>0.82</td>\n",
       "      <td>0.84</td>\n",
       "      <td>0.11</td>\n",
       "      <td>0.03</td>\n",
       "      <td>0.01</td>\n",
       "      <td>0.00</td>\n",
       "      <td>0.14</td>\n",
       "      <td>True</td>\n",
       "    </tr>\n",
       "    <tr>\n",
       "      <th>2</th>\n",
       "      <td>0.03</td>\n",
       "      <td>0.34</td>\n",
       "      <td>0.86</td>\n",
       "      <td>0.30</td>\n",
       "      <td>0.04</td>\n",
       "      <td>0.01</td>\n",
       "      <td>0.41</td>\n",
       "      <td>0.42</td>\n",
       "      <td>0.27</td>\n",
       "      <td>0.59</td>\n",
       "      <td>...</td>\n",
       "      <td>0.77</td>\n",
       "      <td>0.59</td>\n",
       "      <td>0.70</td>\n",
       "      <td>0.64</td>\n",
       "      <td>0.06</td>\n",
       "      <td>0.11</td>\n",
       "      <td>0.04</td>\n",
       "      <td>0.00</td>\n",
       "      <td>1.00</td>\n",
       "      <td>True</td>\n",
       "    </tr>\n",
       "    <tr>\n",
       "      <th>3</th>\n",
       "      <td>0.01</td>\n",
       "      <td>0.38</td>\n",
       "      <td>0.35</td>\n",
       "      <td>0.71</td>\n",
       "      <td>0.04</td>\n",
       "      <td>0.01</td>\n",
       "      <td>0.39</td>\n",
       "      <td>0.46</td>\n",
       "      <td>0.31</td>\n",
       "      <td>0.49</td>\n",
       "      <td>...</td>\n",
       "      <td>0.78</td>\n",
       "      <td>0.56</td>\n",
       "      <td>0.67</td>\n",
       "      <td>0.71</td>\n",
       "      <td>0.09</td>\n",
       "      <td>0.05</td>\n",
       "      <td>0.00</td>\n",
       "      <td>0.00</td>\n",
       "      <td>0.23</td>\n",
       "      <td>True</td>\n",
       "    </tr>\n",
       "    <tr>\n",
       "      <th>4</th>\n",
       "      <td>0.04</td>\n",
       "      <td>0.37</td>\n",
       "      <td>0.32</td>\n",
       "      <td>0.70</td>\n",
       "      <td>0.21</td>\n",
       "      <td>0.02</td>\n",
       "      <td>1.00</td>\n",
       "      <td>1.00</td>\n",
       "      <td>1.00</td>\n",
       "      <td>0.14</td>\n",
       "      <td>...</td>\n",
       "      <td>0.49</td>\n",
       "      <td>0.12</td>\n",
       "      <td>0.00</td>\n",
       "      <td>0.15</td>\n",
       "      <td>0.09</td>\n",
       "      <td>0.09</td>\n",
       "      <td>0.01</td>\n",
       "      <td>0.00</td>\n",
       "      <td>0.15</td>\n",
       "      <td>True</td>\n",
       "    </tr>\n",
       "    <tr>\n",
       "      <th>5</th>\n",
       "      <td>0.04</td>\n",
       "      <td>0.44</td>\n",
       "      <td>1.00</td>\n",
       "      <td>0.10</td>\n",
       "      <td>0.00</td>\n",
       "      <td>0.00</td>\n",
       "      <td>0.43</td>\n",
       "      <td>0.45</td>\n",
       "      <td>0.30</td>\n",
       "      <td>0.58</td>\n",
       "      <td>...</td>\n",
       "      <td>0.96</td>\n",
       "      <td>0.74</td>\n",
       "      <td>0.95</td>\n",
       "      <td>0.89</td>\n",
       "      <td>0.11</td>\n",
       "      <td>0.07</td>\n",
       "      <td>0.13</td>\n",
       "      <td>0.00</td>\n",
       "      <td>1.00</td>\n",
       "      <td>True</td>\n",
       "    </tr>\n",
       "    <tr>\n",
       "      <th>6</th>\n",
       "      <td>0.41</td>\n",
       "      <td>0.37</td>\n",
       "      <td>1.00</td>\n",
       "      <td>0.02</td>\n",
       "      <td>0.03</td>\n",
       "      <td>0.01</td>\n",
       "      <td>0.41</td>\n",
       "      <td>0.50</td>\n",
       "      <td>0.33</td>\n",
       "      <td>0.48</td>\n",
       "      <td>...</td>\n",
       "      <td>0.90</td>\n",
       "      <td>0.64</td>\n",
       "      <td>0.86</td>\n",
       "      <td>0.82</td>\n",
       "      <td>0.43</td>\n",
       "      <td>0.15</td>\n",
       "      <td>0.20</td>\n",
       "      <td>0.38</td>\n",
       "      <td>1.00</td>\n",
       "      <td>True</td>\n",
       "    </tr>\n",
       "    <tr>\n",
       "      <th>7</th>\n",
       "      <td>0.01</td>\n",
       "      <td>0.30</td>\n",
       "      <td>0.00</td>\n",
       "      <td>0.99</td>\n",
       "      <td>0.02</td>\n",
       "      <td>0.01</td>\n",
       "      <td>0.38</td>\n",
       "      <td>0.37</td>\n",
       "      <td>0.27</td>\n",
       "      <td>0.74</td>\n",
       "      <td>...</td>\n",
       "      <td>0.82</td>\n",
       "      <td>0.54</td>\n",
       "      <td>0.72</td>\n",
       "      <td>0.76</td>\n",
       "      <td>0.04</td>\n",
       "      <td>0.07</td>\n",
       "      <td>0.01</td>\n",
       "      <td>0.00</td>\n",
       "      <td>0.16</td>\n",
       "      <td>True</td>\n",
       "    </tr>\n",
       "    <tr>\n",
       "      <th>8</th>\n",
       "      <td>0.00</td>\n",
       "      <td>0.39</td>\n",
       "      <td>0.31</td>\n",
       "      <td>0.75</td>\n",
       "      <td>0.02</td>\n",
       "      <td>0.02</td>\n",
       "      <td>0.35</td>\n",
       "      <td>0.43</td>\n",
       "      <td>0.22</td>\n",
       "      <td>0.33</td>\n",
       "      <td>...</td>\n",
       "      <td>0.60</td>\n",
       "      <td>0.46</td>\n",
       "      <td>0.40</td>\n",
       "      <td>0.54</td>\n",
       "      <td>0.03</td>\n",
       "      <td>0.08</td>\n",
       "      <td>0.01</td>\n",
       "      <td>0.00</td>\n",
       "      <td>0.05</td>\n",
       "      <td>False</td>\n",
       "    </tr>\n",
       "    <tr>\n",
       "      <th>9</th>\n",
       "      <td>0.06</td>\n",
       "      <td>0.39</td>\n",
       "      <td>0.32</td>\n",
       "      <td>0.73</td>\n",
       "      <td>0.04</td>\n",
       "      <td>0.01</td>\n",
       "      <td>0.39</td>\n",
       "      <td>0.46</td>\n",
       "      <td>0.27</td>\n",
       "      <td>0.39</td>\n",
       "      <td>...</td>\n",
       "      <td>0.71</td>\n",
       "      <td>0.47</td>\n",
       "      <td>0.61</td>\n",
       "      <td>0.60</td>\n",
       "      <td>0.14</td>\n",
       "      <td>0.09</td>\n",
       "      <td>0.01</td>\n",
       "      <td>0.00</td>\n",
       "      <td>0.22</td>\n",
       "      <td>True</td>\n",
       "    </tr>\n",
       "  </tbody>\n",
       "</table>\n",
       "<p>10 rows × 102 columns</p>\n",
       "</div>"
      ],
      "text/plain": [
       "   population  householdsize  racepctblack  racePctWhite  racePctAsian  \\\n",
       "0        0.01           0.61          0.21          0.83          0.02   \n",
       "1        0.01           0.41          0.55          0.57          0.01   \n",
       "2        0.03           0.34          0.86          0.30          0.04   \n",
       "3        0.01           0.38          0.35          0.71          0.04   \n",
       "4        0.04           0.37          0.32          0.70          0.21   \n",
       "5        0.04           0.44          1.00          0.10          0.00   \n",
       "6        0.41           0.37          1.00          0.02          0.03   \n",
       "7        0.01           0.30          0.00          0.99          0.02   \n",
       "8        0.00           0.39          0.31          0.75          0.02   \n",
       "9        0.06           0.39          0.32          0.73          0.04   \n",
       "\n",
       "   racePctHisp  agePct12t21  agePct12t29  agePct16t24  agePct65up    ...      \\\n",
       "0         0.01         0.41         0.49         0.26        0.21    ...       \n",
       "1         0.00         0.47         0.45         0.31        0.57    ...       \n",
       "2         0.01         0.41         0.42         0.27        0.59    ...       \n",
       "3         0.01         0.39         0.46         0.31        0.49    ...       \n",
       "4         0.02         1.00         1.00         1.00        0.14    ...       \n",
       "5         0.00         0.43         0.45         0.30        0.58    ...       \n",
       "6         0.01         0.41         0.50         0.33        0.48    ...       \n",
       "7         0.01         0.38         0.37         0.27        0.74    ...       \n",
       "8         0.02         0.35         0.43         0.22        0.33    ...       \n",
       "9         0.01         0.39         0.46         0.27        0.39    ...       \n",
       "\n",
       "   PctBornSameState  PctSameHouse85  PctSameCity85  PctSameState85  LandArea  \\\n",
       "0              0.70            0.40           0.34            0.57      0.05   \n",
       "1              0.93            0.66           0.82            0.84      0.11   \n",
       "2              0.77            0.59           0.70            0.64      0.06   \n",
       "3              0.78            0.56           0.67            0.71      0.09   \n",
       "4              0.49            0.12           0.00            0.15      0.09   \n",
       "5              0.96            0.74           0.95            0.89      0.11   \n",
       "6              0.90            0.64           0.86            0.82      0.43   \n",
       "7              0.82            0.54           0.72            0.76      0.04   \n",
       "8              0.60            0.46           0.40            0.54      0.03   \n",
       "9              0.71            0.47           0.61            0.60      0.14   \n",
       "\n",
       "   PopDens  PctUsePubTrans  LemasPctOfficDrugUn  ViolentCrimesPerPop  \\\n",
       "0     0.06            0.01                 0.00                 0.06   \n",
       "1     0.03            0.01                 0.00                 0.14   \n",
       "2     0.11            0.04                 0.00                 1.00   \n",
       "3     0.05            0.00                 0.00                 0.23   \n",
       "4     0.09            0.01                 0.00                 0.15   \n",
       "5     0.07            0.13                 0.00                 1.00   \n",
       "6     0.15            0.20                 0.38                 1.00   \n",
       "7     0.07            0.01                 0.00                 0.16   \n",
       "8     0.08            0.01                 0.00                 0.05   \n",
       "9     0.09            0.01                 0.00                 0.22   \n",
       "\n",
       "   highCrime  \n",
       "0      False  \n",
       "1       True  \n",
       "2       True  \n",
       "3       True  \n",
       "4       True  \n",
       "5       True  \n",
       "6       True  \n",
       "7       True  \n",
       "8      False  \n",
       "9       True  \n",
       "\n",
       "[10 rows x 102 columns]"
      ]
     },
     "execution_count": 6,
     "metadata": {},
     "output_type": "execute_result"
    }
   ],
   "source": [
    "crimeRate = []\n",
    "for rows in CummCrime['ViolentCrimesPerPop']:\n",
    "    if rows > 0.1:\n",
    "        crimeRate.append('True')\n",
    "    else:\n",
    "        crimeRate.append('False')\n",
    "        \n",
    "CummCrime['highCrime'] = crimeRate\n",
    "CummCrime.head(10)"
   ]
  },
  {
   "cell_type": "code",
   "execution_count": 7,
   "metadata": {
    "collapsed": false
   },
   "outputs": [
    {
     "name": "stdout",
     "output_type": "stream",
     "text": [
      "Number of positive and negative instances in the dataset:\n",
      " True     1250\n",
      "False     743\n",
      "Name: highCrime, dtype: int64\n"
     ]
    }
   ],
   "source": [
    "print(\"Number of positive and negative instances in the dataset:\\n\",CummCrime['highCrime'].value_counts())"
   ]
  },
  {
   "cell_type": "code",
   "execution_count": 8,
   "metadata": {
    "collapsed": false
   },
   "outputs": [
    {
     "name": "stdout",
     "output_type": "stream",
     "text": [
      "\n",
      "Percentage of positive and negative instances in the dataset:\n",
      " True     0.627195\n",
      "False    0.372805\n",
      "Name: highCrime, dtype: float64\n"
     ]
    }
   ],
   "source": [
    "print(\"\\nPercentage of positive and negative instances in the dataset:\\n\",CummCrime['highCrime'].value_counts(normalize = True))"
   ]
  },
  {
   "cell_type": "markdown",
   "metadata": {},
   "source": [
    "#### Positive: 62.72%\n",
    "#### Negative: 37.28%"
   ]
  },
  {
   "cell_type": "markdown",
   "metadata": {},
   "source": [
    "### Use DecisionTreeClassifier to learn a decision tree to predict highCrime on the entire dataset (remember to exclude the crime rate feature from the input feature set so you are not cheating). \n",
    "#### i.\tWhat are the training accuracy, precision, and recall for this tree? \n",
    "#### ii.\tWhat are the main features used for classification? Can you explain why they make sense (or not)?\n"
   ]
  },
  {
   "cell_type": "markdown",
   "metadata": {},
   "source": [
    "Assigning values for training and testing data to predict the final result"
   ]
  },
  {
   "cell_type": "code",
   "execution_count": 9,
   "metadata": {
    "collapsed": false
   },
   "outputs": [
    {
     "data": {
      "text/html": [
       "<div>\n",
       "<table border=\"1\" class=\"dataframe\">\n",
       "  <thead>\n",
       "    <tr style=\"text-align: right;\">\n",
       "      <th></th>\n",
       "      <th>population</th>\n",
       "      <th>householdsize</th>\n",
       "      <th>racepctblack</th>\n",
       "      <th>racePctWhite</th>\n",
       "      <th>racePctAsian</th>\n",
       "      <th>racePctHisp</th>\n",
       "      <th>agePct12t21</th>\n",
       "      <th>agePct12t29</th>\n",
       "      <th>agePct16t24</th>\n",
       "      <th>agePct65up</th>\n",
       "      <th>...</th>\n",
       "      <th>NumStreet</th>\n",
       "      <th>PctForeignBorn</th>\n",
       "      <th>PctBornSameState</th>\n",
       "      <th>PctSameHouse85</th>\n",
       "      <th>PctSameCity85</th>\n",
       "      <th>PctSameState85</th>\n",
       "      <th>LandArea</th>\n",
       "      <th>PopDens</th>\n",
       "      <th>PctUsePubTrans</th>\n",
       "      <th>LemasPctOfficDrugUn</th>\n",
       "    </tr>\n",
       "  </thead>\n",
       "  <tbody>\n",
       "    <tr>\n",
       "      <th>0</th>\n",
       "      <td>0.01</td>\n",
       "      <td>0.61</td>\n",
       "      <td>0.21</td>\n",
       "      <td>0.83</td>\n",
       "      <td>0.02</td>\n",
       "      <td>0.01</td>\n",
       "      <td>0.41</td>\n",
       "      <td>0.49</td>\n",
       "      <td>0.26</td>\n",
       "      <td>0.21</td>\n",
       "      <td>...</td>\n",
       "      <td>0.00</td>\n",
       "      <td>0.03</td>\n",
       "      <td>0.70</td>\n",
       "      <td>0.40</td>\n",
       "      <td>0.34</td>\n",
       "      <td>0.57</td>\n",
       "      <td>0.05</td>\n",
       "      <td>0.06</td>\n",
       "      <td>0.01</td>\n",
       "      <td>0.0</td>\n",
       "    </tr>\n",
       "    <tr>\n",
       "      <th>1</th>\n",
       "      <td>0.01</td>\n",
       "      <td>0.41</td>\n",
       "      <td>0.55</td>\n",
       "      <td>0.57</td>\n",
       "      <td>0.01</td>\n",
       "      <td>0.00</td>\n",
       "      <td>0.47</td>\n",
       "      <td>0.45</td>\n",
       "      <td>0.31</td>\n",
       "      <td>0.57</td>\n",
       "      <td>...</td>\n",
       "      <td>0.00</td>\n",
       "      <td>0.00</td>\n",
       "      <td>0.93</td>\n",
       "      <td>0.66</td>\n",
       "      <td>0.82</td>\n",
       "      <td>0.84</td>\n",
       "      <td>0.11</td>\n",
       "      <td>0.03</td>\n",
       "      <td>0.01</td>\n",
       "      <td>0.0</td>\n",
       "    </tr>\n",
       "    <tr>\n",
       "      <th>2</th>\n",
       "      <td>0.03</td>\n",
       "      <td>0.34</td>\n",
       "      <td>0.86</td>\n",
       "      <td>0.30</td>\n",
       "      <td>0.04</td>\n",
       "      <td>0.01</td>\n",
       "      <td>0.41</td>\n",
       "      <td>0.42</td>\n",
       "      <td>0.27</td>\n",
       "      <td>0.59</td>\n",
       "      <td>...</td>\n",
       "      <td>0.02</td>\n",
       "      <td>0.04</td>\n",
       "      <td>0.77</td>\n",
       "      <td>0.59</td>\n",
       "      <td>0.70</td>\n",
       "      <td>0.64</td>\n",
       "      <td>0.06</td>\n",
       "      <td>0.11</td>\n",
       "      <td>0.04</td>\n",
       "      <td>0.0</td>\n",
       "    </tr>\n",
       "    <tr>\n",
       "      <th>3</th>\n",
       "      <td>0.01</td>\n",
       "      <td>0.38</td>\n",
       "      <td>0.35</td>\n",
       "      <td>0.71</td>\n",
       "      <td>0.04</td>\n",
       "      <td>0.01</td>\n",
       "      <td>0.39</td>\n",
       "      <td>0.46</td>\n",
       "      <td>0.31</td>\n",
       "      <td>0.49</td>\n",
       "      <td>...</td>\n",
       "      <td>0.00</td>\n",
       "      <td>0.03</td>\n",
       "      <td>0.78</td>\n",
       "      <td>0.56</td>\n",
       "      <td>0.67</td>\n",
       "      <td>0.71</td>\n",
       "      <td>0.09</td>\n",
       "      <td>0.05</td>\n",
       "      <td>0.00</td>\n",
       "      <td>0.0</td>\n",
       "    </tr>\n",
       "    <tr>\n",
       "      <th>4</th>\n",
       "      <td>0.04</td>\n",
       "      <td>0.37</td>\n",
       "      <td>0.32</td>\n",
       "      <td>0.70</td>\n",
       "      <td>0.21</td>\n",
       "      <td>0.02</td>\n",
       "      <td>1.00</td>\n",
       "      <td>1.00</td>\n",
       "      <td>1.00</td>\n",
       "      <td>0.14</td>\n",
       "      <td>...</td>\n",
       "      <td>0.00</td>\n",
       "      <td>0.12</td>\n",
       "      <td>0.49</td>\n",
       "      <td>0.12</td>\n",
       "      <td>0.00</td>\n",
       "      <td>0.15</td>\n",
       "      <td>0.09</td>\n",
       "      <td>0.09</td>\n",
       "      <td>0.01</td>\n",
       "      <td>0.0</td>\n",
       "    </tr>\n",
       "  </tbody>\n",
       "</table>\n",
       "<p>5 rows × 100 columns</p>\n",
       "</div>"
      ],
      "text/plain": [
       "   population  householdsize  racepctblack  racePctWhite  racePctAsian  \\\n",
       "0        0.01           0.61          0.21          0.83          0.02   \n",
       "1        0.01           0.41          0.55          0.57          0.01   \n",
       "2        0.03           0.34          0.86          0.30          0.04   \n",
       "3        0.01           0.38          0.35          0.71          0.04   \n",
       "4        0.04           0.37          0.32          0.70          0.21   \n",
       "\n",
       "   racePctHisp  agePct12t21  agePct12t29  agePct16t24  agePct65up  \\\n",
       "0         0.01         0.41         0.49         0.26        0.21   \n",
       "1         0.00         0.47         0.45         0.31        0.57   \n",
       "2         0.01         0.41         0.42         0.27        0.59   \n",
       "3         0.01         0.39         0.46         0.31        0.49   \n",
       "4         0.02         1.00         1.00         1.00        0.14   \n",
       "\n",
       "          ...           NumStreet  PctForeignBorn  PctBornSameState  \\\n",
       "0         ...                0.00            0.03              0.70   \n",
       "1         ...                0.00            0.00              0.93   \n",
       "2         ...                0.02            0.04              0.77   \n",
       "3         ...                0.00            0.03              0.78   \n",
       "4         ...                0.00            0.12              0.49   \n",
       "\n",
       "   PctSameHouse85  PctSameCity85  PctSameState85  LandArea  PopDens  \\\n",
       "0            0.40           0.34            0.57      0.05     0.06   \n",
       "1            0.66           0.82            0.84      0.11     0.03   \n",
       "2            0.59           0.70            0.64      0.06     0.11   \n",
       "3            0.56           0.67            0.71      0.09     0.05   \n",
       "4            0.12           0.00            0.15      0.09     0.09   \n",
       "\n",
       "   PctUsePubTrans  LemasPctOfficDrugUn  \n",
       "0            0.01                  0.0  \n",
       "1            0.01                  0.0  \n",
       "2            0.04                  0.0  \n",
       "3            0.00                  0.0  \n",
       "4            0.01                  0.0  \n",
       "\n",
       "[5 rows x 100 columns]"
      ]
     },
     "execution_count": 9,
     "metadata": {},
     "output_type": "execute_result"
    }
   ],
   "source": [
    "x = CummCrime.drop(['ViolentCrimesPerPop','highCrime'],1)\n",
    "y = CummCrime['highCrime']\n",
    "\n",
    "x.head()"
   ]
  },
  {
   "cell_type": "code",
   "execution_count": 10,
   "metadata": {
    "collapsed": false
   },
   "outputs": [
    {
     "data": {
      "text/plain": [
       "0    False\n",
       "1     True\n",
       "2     True\n",
       "3     True\n",
       "4     True\n",
       "Name: highCrime, dtype: object"
      ]
     },
     "execution_count": 10,
     "metadata": {},
     "output_type": "execute_result"
    }
   ],
   "source": [
    "y.head()"
   ]
  },
  {
   "cell_type": "markdown",
   "metadata": {},
   "source": [
    "Fitting our data to Descision Tree Classifier"
   ]
  },
  {
   "cell_type": "code",
   "execution_count": 11,
   "metadata": {
    "collapsed": false
   },
   "outputs": [
    {
     "data": {
      "text/plain": [
       "DecisionTreeClassifier(class_weight=None, criterion='gini', max_depth=None,\n",
       "            max_features=None, max_leaf_nodes=None,\n",
       "            min_impurity_split=1e-07, min_samples_leaf=1,\n",
       "            min_samples_split=2, min_weight_fraction_leaf=0.0,\n",
       "            presort=False, random_state=None, splitter='best')"
      ]
     },
     "execution_count": 11,
     "metadata": {},
     "output_type": "execute_result"
    }
   ],
   "source": [
    "dtree = DecisionTreeClassifier()\n",
    "dtree.fit(x,y)"
   ]
  },
  {
   "cell_type": "markdown",
   "metadata": {},
   "source": [
    "Printing classification report"
   ]
  },
  {
   "cell_type": "code",
   "execution_count": 12,
   "metadata": {
    "collapsed": false,
    "scrolled": true
   },
   "outputs": [
    {
     "name": "stdout",
     "output_type": "stream",
     "text": [
      "             precision    recall  f1-score   support\n",
      "\n",
      "      False       1.00      1.00      1.00       743\n",
      "       True       1.00      1.00      1.00      1250\n",
      "\n",
      "avg / total       1.00      1.00      1.00      1993\n",
      "\n"
     ]
    }
   ],
   "source": [
    "predictions = dtree.predict(x)\n",
    "print(classification_report(y,predictions))"
   ]
  },
  {
   "cell_type": "markdown",
   "metadata": {},
   "source": [
    "### Precision : 1.0\n",
    "### Recall : 1.0"
   ]
  },
  {
   "cell_type": "code",
   "execution_count": 13,
   "metadata": {
    "collapsed": false
   },
   "outputs": [
    {
     "name": "stdout",
     "output_type": "stream",
     "text": [
      "C_Mat: [[ 743    0]\n",
      " [   0 1250]]\n"
     ]
    }
   ],
   "source": [
    "print(\"C_Mat:\",confusion_matrix(y,predictions))"
   ]
  },
  {
   "cell_type": "code",
   "execution_count": 14,
   "metadata": {
    "collapsed": false
   },
   "outputs": [
    {
     "name": "stdout",
     "output_type": "stream",
     "text": [
      "Accuracy: 1.0\n"
     ]
    }
   ],
   "source": [
    "print(\"Accuracy:\",accuracy_score(y,predictions))"
   ]
  },
  {
   "cell_type": "markdown",
   "metadata": {},
   "source": [
    "### Main features used for classification:"
   ]
  },
  {
   "cell_type": "code",
   "execution_count": 15,
   "metadata": {
    "collapsed": false
   },
   "outputs": [
    {
     "data": {
      "text/html": [
       "<div>\n",
       "<table border=\"1\" class=\"dataframe\">\n",
       "  <thead>\n",
       "    <tr style=\"text-align: right;\">\n",
       "      <th></th>\n",
       "      <th>Importance</th>\n",
       "    </tr>\n",
       "  </thead>\n",
       "  <tbody>\n",
       "    <tr>\n",
       "      <th>PctKids2Par</th>\n",
       "      <td>0.365528</td>\n",
       "    </tr>\n",
       "    <tr>\n",
       "      <th>racePctWhite</th>\n",
       "      <td>0.087891</td>\n",
       "    </tr>\n",
       "    <tr>\n",
       "      <th>racePctHisp</th>\n",
       "      <td>0.045120</td>\n",
       "    </tr>\n",
       "    <tr>\n",
       "      <th>PctEmplManu</th>\n",
       "      <td>0.021006</td>\n",
       "    </tr>\n",
       "    <tr>\n",
       "      <th>PctLess9thGrade</th>\n",
       "      <td>0.018739</td>\n",
       "    </tr>\n",
       "    <tr>\n",
       "      <th>MedRent</th>\n",
       "      <td>0.013368</td>\n",
       "    </tr>\n",
       "    <tr>\n",
       "      <th>PctEmploy</th>\n",
       "      <td>0.013364</td>\n",
       "    </tr>\n",
       "    <tr>\n",
       "      <th>HispPerCap</th>\n",
       "      <td>0.013246</td>\n",
       "    </tr>\n",
       "    <tr>\n",
       "      <th>PctPopUnderPov</th>\n",
       "      <td>0.012526</td>\n",
       "    </tr>\n",
       "    <tr>\n",
       "      <th>PctLargHouseFam</th>\n",
       "      <td>0.012200</td>\n",
       "    </tr>\n",
       "  </tbody>\n",
       "</table>\n",
       "</div>"
      ],
      "text/plain": [
       "                 Importance\n",
       "PctKids2Par        0.365528\n",
       "racePctWhite       0.087891\n",
       "racePctHisp        0.045120\n",
       "PctEmplManu        0.021006\n",
       "PctLess9thGrade    0.018739\n",
       "MedRent            0.013368\n",
       "PctEmploy          0.013364\n",
       "HispPerCap         0.013246\n",
       "PctPopUnderPov     0.012526\n",
       "PctLargHouseFam    0.012200"
      ]
     },
     "execution_count": 15,
     "metadata": {},
     "output_type": "execute_result"
    }
   ],
   "source": [
    "impFeatures = pd.DataFrame(dtree.feature_importances_ ,index=x.columns,columns=['Importance']).sort_values(by='Importance',ascending=False)\n",
    "impFeatures.head(10)"
   ]
  },
  {
   "cell_type": "markdown",
   "metadata": {},
   "source": [
    "Important Features Summary:\n",
    "\n",
    "By analyzing our data we can see that the feature with the highest importance is \"PctKids2Par\" with feature importance 0.37. The 'PctKids2Par' feature has the highest similarity measure while predicting CrimeRate and so on with other features. The decision tree states that the crime rate is high where percent of kids having both parents is low. We can conclude that the single parents might be inclined towards comitting crime to support their children all by him/her self.\n",
    "\n",
    "The other defining attirbutes also includes percent of different races living in that area and we can also see education(less than 9th grade) of the people is also an important factor. Despite these features which does not make any meaning like amount of people working in manufacturing still we might want to consider the percent of people under and above poverty line because it makes sense."
   ]
  },
  {
   "cell_type": "markdown",
   "metadata": {},
   "source": [
    "### c.\tNow apply cross-validation (cross_val_score) to do 10-fold cross-validation to estimate the out-of-training accuracy of decision tree learning for this task.\n",
    "#### i.\tWhat are the 10-fold cross-validation accuracy, precision, and recall?\n",
    "#### ii.\tWhy are they different from the results in the previous test?\n"
   ]
  },
  {
   "cell_type": "code",
   "execution_count": 16,
   "metadata": {
    "collapsed": false
   },
   "outputs": [
    {
     "data": {
      "text/plain": [
       "DecisionTreeClassifier(class_weight=None, criterion='gini', max_depth=None,\n",
       "            max_features=None, max_leaf_nodes=None,\n",
       "            min_impurity_split=1e-07, min_samples_leaf=1,\n",
       "            min_samples_split=2, min_weight_fraction_leaf=0.0,\n",
       "            presort=False, random_state=None, splitter='best')"
      ]
     },
     "execution_count": 16,
     "metadata": {},
     "output_type": "execute_result"
    }
   ],
   "source": [
    "d = {'True': 1, 'False': 0}\n",
    "CummCrime['highCrime'] = CummCrime['highCrime'].map(d)\n",
    "\n",
    "x = CummCrime.drop(['highCrime','ViolentCrimesPerPop'],axis=1)\n",
    "y = CummCrime['highCrime']\n",
    "dtree1 = DecisionTreeClassifier()\n",
    "dtree1.fit(x,y)"
   ]
  },
  {
   "cell_type": "markdown",
   "metadata": {},
   "source": [
    "##### Printing Accuracy, Precision, Recall"
   ]
  },
  {
   "cell_type": "code",
   "execution_count": 17,
   "metadata": {
    "collapsed": false,
    "scrolled": true
   },
   "outputs": [
    {
     "name": "stdout",
     "output_type": "stream",
     "text": [
      "Accuracy: 0.74 (+/- 0.09)\n",
      "Precision: 0.79 (+/- 0.07)\n",
      "Recall: 0.78 (+/- 0.19)\n"
     ]
    }
   ],
   "source": [
    "print(\"Accuracy: %0.2f (+/- %0.2f)\" % (cross_val_score(dtree1,x,y,scoring = 'accuracy',cv = 10).mean(), cross_val_score(dtree1,x,y,scoring = 'accuracy',cv = 10).std() * 2))\n",
    "print(\"Precision: %0.2f (+/- %0.2f)\" % (cross_val_score(dtree1,x,y,scoring = 'precision',cv = 10).mean(), cross_val_score(dtree1,x,y,scoring = 'precision',cv = 10).std() * 2))\n",
    "print(\"Recall: %0.2f (+/- %0.2f)\" % (cross_val_score(dtree1,x,y,scoring = 'recall',cv = 10).mean(), cross_val_score(dtree1,x,y,scoring = 'recall',cv = 10).std() * 2))"
   ]
  },
  {
   "cell_type": "markdown",
   "metadata": {},
   "source": [
    "###  Difference of Accuracy, Percision and Recall from previous test\n",
    "In the initial decision tree classification, we have seen that the Accuracy, Precision and Recall were 100% as the model built was overfitted to the training set. Once we applied cross validation the data was split into train and test. \n",
    "The model was built on splitted data and now the Accuracy, Percision and Recall for the new model went down more than by 20%. The new model is not overfitted towards the training set and thus we can assume that the new model will perform better when encountered with new datapoint as the it is not overfitted."
   ]
  },
  {
   "cell_type": "markdown",
   "metadata": {},
   "source": [
    "# 2. Linear Classification\n",
    "## a). Naive Bayes Classifier\n",
    "#### i) Naive Bayes Classification with 10 fold Cross Validation"
   ]
  },
  {
   "cell_type": "markdown",
   "metadata": {},
   "source": [
    "Fitting our dataset to GaussianNB Model"
   ]
  },
  {
   "cell_type": "code",
   "execution_count": 18,
   "metadata": {
    "collapsed": false
   },
   "outputs": [
    {
     "data": {
      "text/plain": [
       "GaussianNB(priors=None)"
      ]
     },
     "execution_count": 18,
     "metadata": {},
     "output_type": "execute_result"
    }
   ],
   "source": [
    "gnb = GaussianNB()\n",
    "gnb.fit(x,y)"
   ]
  },
  {
   "cell_type": "markdown",
   "metadata": {},
   "source": [
    "Printing Accuracy, Precision, Recall"
   ]
  },
  {
   "cell_type": "code",
   "execution_count": 19,
   "metadata": {
    "collapsed": false
   },
   "outputs": [
    {
     "name": "stdout",
     "output_type": "stream",
     "text": [
      "Accuracy: 0.76 (+/- 0.11)\n",
      "Precision: 0.91 (+/- 0.12)\n",
      "Recall: 0.69 (+/- 0.18)\n"
     ]
    }
   ],
   "source": [
    "print(\"Accuracy: %0.2f (+/- %0.2f)\" % (cross_val_score(gnb,x,y,scoring = 'accuracy',cv = 10).mean(), cross_val_score(gnb,x,y,scoring = 'accuracy',cv = 10).std() * 2))\n",
    "print(\"Precision: %0.2f (+/- %0.2f)\" % (cross_val_score(gnb,x,y,scoring = 'precision',cv = 10).mean(), cross_val_score(gnb,x,y,scoring = 'precision',cv = 10).std() * 2))\n",
    "print(\"Recall: %0.2f (+/- %0.2f)\" % (cross_val_score(gnb,x,y,scoring = 'recall',cv = 10).mean(), cross_val_score(gnb,x,y,scoring = 'recall',cv = 10).std() * 2))"
   ]
  },
  {
   "cell_type": "markdown",
   "metadata": {},
   "source": [
    "##### ii) Top 10 Features according to their Predictiveness"
   ]
  },
  {
   "cell_type": "code",
   "execution_count": 20,
   "metadata": {
    "collapsed": false
   },
   "outputs": [
    {
     "data": {
      "text/html": [
       "<div>\n",
       "<table border=\"1\" class=\"dataframe\">\n",
       "  <thead>\n",
       "    <tr style=\"text-align: right;\">\n",
       "      <th></th>\n",
       "      <th>Features</th>\n",
       "      <th>Norm</th>\n",
       "    </tr>\n",
       "  </thead>\n",
       "  <tbody>\n",
       "    <tr>\n",
       "      <th>44</th>\n",
       "      <td>PctKids2Par</td>\n",
       "      <td>0.8097</td>\n",
       "    </tr>\n",
       "    <tr>\n",
       "      <th>43</th>\n",
       "      <td>PctFam2Par</td>\n",
       "      <td>0.7455</td>\n",
       "    </tr>\n",
       "    <tr>\n",
       "      <th>3</th>\n",
       "      <td>racePctWhite</td>\n",
       "      <td>0.7352</td>\n",
       "    </tr>\n",
       "    <tr>\n",
       "      <th>50</th>\n",
       "      <td>PctIlleg</td>\n",
       "      <td>0.7093</td>\n",
       "    </tr>\n",
       "    <tr>\n",
       "      <th>40</th>\n",
       "      <td>FemalePctDiv</td>\n",
       "      <td>0.6940</td>\n",
       "    </tr>\n",
       "    <tr>\n",
       "      <th>41</th>\n",
       "      <td>TotalPctDiv</td>\n",
       "      <td>0.6746</td>\n",
       "    </tr>\n",
       "    <tr>\n",
       "      <th>45</th>\n",
       "      <td>PctYoungKids2Par</td>\n",
       "      <td>0.6650</td>\n",
       "    </tr>\n",
       "    <tr>\n",
       "      <th>15</th>\n",
       "      <td>pctWInvInc</td>\n",
       "      <td>0.6611</td>\n",
       "    </tr>\n",
       "    <tr>\n",
       "      <th>46</th>\n",
       "      <td>PctTeen2Par</td>\n",
       "      <td>0.6429</td>\n",
       "    </tr>\n",
       "    <tr>\n",
       "      <th>38</th>\n",
       "      <td>MalePctDivorce</td>\n",
       "      <td>0.6169</td>\n",
       "    </tr>\n",
       "  </tbody>\n",
       "</table>\n",
       "</div>"
      ],
      "text/plain": [
       "            Features    Norm\n",
       "44       PctKids2Par  0.8097\n",
       "43        PctFam2Par  0.7455\n",
       "3       racePctWhite  0.7352\n",
       "50          PctIlleg  0.7093\n",
       "40      FemalePctDiv  0.6940\n",
       "41       TotalPctDiv  0.6746\n",
       "45  PctYoungKids2Par  0.6650\n",
       "15        pctWInvInc  0.6611\n",
       "46       PctTeen2Par  0.6429\n",
       "38    MalePctDivorce  0.6169"
      ]
     },
     "execution_count": 20,
     "metadata": {},
     "output_type": "execute_result"
    }
   ],
   "source": [
    "feaList = []\n",
    "for value in x.columns.values:\n",
    "    trueVal = np.array(CummCrime.loc[CummCrime.highCrime == True, value])\n",
    "    falseVal = np.array(CummCrime.loc[CummCrime.highCrime == False, value])\n",
    "    absDiff = abs(trueVal.mean() - falseVal.mean())\n",
    "    totStd = trueVal.std() + falseVal.std()\n",
    "    normVal = float('%.4f' % (absDiff/totStd))\n",
    "    sett = (value, normVal)\n",
    "    feaList.append(sett)\n",
    "    \n",
    "ImpFeatures = pd.DataFrame(feaList, columns=(['Features', 'Norm'])).sort_values(\"Norm\", ascending=False)\n",
    "ImpFeatures.head(10)\n",
    "    "
   ]
  },
  {
   "cell_type": "markdown",
   "metadata": {},
   "source": [
    "As per the above result,the feature \"PctKids2Par\" is the most predictive feature. The result makes sense as to derive predictive features is measured by normalised difference of means and hence is directly proportional to difference of mens of features of their respective classes(True or False). Mean reprsent spread of the feature data and more the difference, more is the spread of the feature means the easier to differentiate between the classes."
   ]
  },
  {
   "cell_type": "markdown",
   "metadata": {},
   "source": [
    "##### iii) Comparison between the Feature Predictiveness and Important Features from Decision Tree Classification\n",
    "Form the results of GuassianNB() and DecisionTree Classifier, there are many features differences between \"Features with high Predictiveness\" and \"Features Importance\" but there are two common features('PctKids2Par', 'racePctWhite') in the top three features from both lists by which we can assume that these features have a big role in the decision making to predict crime rate because they showed up in both ways of finding important features."
   ]
  },
  {
   "cell_type": "markdown",
   "metadata": {},
   "source": [
    "### b). Linear Support Vector Classification model\n",
    "##### i) Linear Support Vector Classification with 10 fold Cross Validation"
   ]
  },
  {
   "cell_type": "markdown",
   "metadata": {},
   "source": [
    "Fitting our dataset to LinearSVC Model"
   ]
  },
  {
   "cell_type": "code",
   "execution_count": 21,
   "metadata": {
    "collapsed": false
   },
   "outputs": [
    {
     "data": {
      "text/plain": [
       "LinearSVC(C=1.0, class_weight=None, dual=True, fit_intercept=True,\n",
       "     intercept_scaling=1, loss='squared_hinge', max_iter=1000,\n",
       "     multi_class='ovr', penalty='l2', random_state=None, tol=0.0001,\n",
       "     verbose=0)"
      ]
     },
     "execution_count": 21,
     "metadata": {},
     "output_type": "execute_result"
    }
   ],
   "source": [
    "lvc = LinearSVC()\n",
    "lvc.fit(x,y)"
   ]
  },
  {
   "cell_type": "markdown",
   "metadata": {},
   "source": [
    "Printing Accuracy, Precision, Recall"
   ]
  },
  {
   "cell_type": "code",
   "execution_count": 22,
   "metadata": {
    "collapsed": false
   },
   "outputs": [
    {
     "name": "stdout",
     "output_type": "stream",
     "text": [
      "Accuracy: 0.80 (+/- 0.11)\n",
      "Precision: 0.85 (+/- 0.10)\n",
      "Recall: 0.83 (+/- 0.23)\n"
     ]
    }
   ],
   "source": [
    "print(\"Accuracy: %0.2f (+/- %0.2f)\" % (cross_val_score(lvc,x,y,scoring = 'accuracy',cv = 10).mean(), cross_val_score(lvc,x,y,scoring = 'accuracy',cv = 10).std() * 2))\n",
    "print(\"Precision: %0.2f (+/- %0.2f)\" % (cross_val_score(lvc,x,y,scoring = 'precision',cv = 10).mean(), cross_val_score(lvc,x,y,scoring = 'precision',cv = 10).std() * 2))\n",
    "print(\"Recall: %0.2f (+/- %0.2f)\" % (cross_val_score(lvc,x,y,scoring = 'recall',cv = 10).mean(), cross_val_score(lvc,x,y,scoring = 'recall',cv = 10).std() * 2))"
   ]
  },
  {
   "cell_type": "markdown",
   "metadata": {},
   "source": [
    "##### 10 most predictive features"
   ]
  },
  {
   "cell_type": "code",
   "execution_count": 23,
   "metadata": {
    "collapsed": false
   },
   "outputs": [
    {
     "data": {
      "text/html": [
       "<div>\n",
       "<table border=\"1\" class=\"dataframe\">\n",
       "  <thead>\n",
       "    <tr style=\"text-align: right;\">\n",
       "      <th></th>\n",
       "      <th>Coef</th>\n",
       "    </tr>\n",
       "  </thead>\n",
       "  <tbody>\n",
       "    <tr>\n",
       "      <th>PersPerOccupHous</th>\n",
       "      <td>1.755126</td>\n",
       "    </tr>\n",
       "    <tr>\n",
       "      <th>RentHighQ</th>\n",
       "      <td>1.066885</td>\n",
       "    </tr>\n",
       "    <tr>\n",
       "      <th>MalePctDivorce</th>\n",
       "      <td>1.065696</td>\n",
       "    </tr>\n",
       "    <tr>\n",
       "      <th>NumUnderPov</th>\n",
       "      <td>1.051549</td>\n",
       "    </tr>\n",
       "    <tr>\n",
       "      <th>NumStreet</th>\n",
       "      <td>1.019155</td>\n",
       "    </tr>\n",
       "    <tr>\n",
       "      <th>PctOccupMgmtProf</th>\n",
       "      <td>1.014672</td>\n",
       "    </tr>\n",
       "    <tr>\n",
       "      <th>population</th>\n",
       "      <td>1.002301</td>\n",
       "    </tr>\n",
       "    <tr>\n",
       "      <th>agePct12t21</th>\n",
       "      <td>0.988273</td>\n",
       "    </tr>\n",
       "    <tr>\n",
       "      <th>HousVacant</th>\n",
       "      <td>0.936513</td>\n",
       "    </tr>\n",
       "    <tr>\n",
       "      <th>agePct65up</th>\n",
       "      <td>0.890573</td>\n",
       "    </tr>\n",
       "  </tbody>\n",
       "</table>\n",
       "</div>"
      ],
      "text/plain": [
       "                      Coef\n",
       "PersPerOccupHous  1.755126\n",
       "RentHighQ         1.066885\n",
       "MalePctDivorce    1.065696\n",
       "NumUnderPov       1.051549\n",
       "NumStreet         1.019155\n",
       "PctOccupMgmtProf  1.014672\n",
       "population        1.002301\n",
       "agePct12t21       0.988273\n",
       "HousVacant        0.936513\n",
       "agePct65up        0.890573"
      ]
     },
     "execution_count": 23,
     "metadata": {},
     "output_type": "execute_result"
    }
   ],
   "source": [
    "impFeatures1 = pd.DataFrame(lvc.coef_[0] ,index=x.columns,columns=['Coef']).sort_values(by='Coef',ascending=False)\n",
    "impFeatures1.head(10)"
   ]
  },
  {
   "cell_type": "markdown",
   "metadata": {},
   "source": [
    "From the above result,the highest weight corresponds to the attribute “PersPerOccupHous” which speaks us about the number of persons living per household. Number of persons could affect the crime rate in that area.The other attributes such as rental housing, male percent divorces also contribute to the crime rate but there are some attributes with high weights.\n",
    "\n",
    "From the analysis, the weights of the features can give the importance of the feature in decision making and this is because the coefficients represent the vector orthogonal to the linear hyper plane which separates the data. The higher the coefficient’s absolute value the further it is away from the plane and the further it is away gives more information on classification of the data points. Thus, these weights give us the most predictive features in the dataset.\n",
    "\n",
    "##### iii) Comparison between the Feature Weights and Important Features from Decision Tree Classification\n",
    "From the above results, top 10 important features from decision tree classification see that we have some new features which we have high importance like ‘PersPerOccupHous’, ‘pctWInvInc’, ‘NumStreet’, etc.,. These attributes cannot be seen in the decision tree but managed to rack up high weights. We can observe that we have some attributes which are common from both list of features like ‘racePctWhite’ and ‘PctKids2Par’. \n",
    "\n",
    "These feature managed to get into the most influencing attributes lists from different classification techniques. These features have a influencing vote on the deciding the classification of a data point."
   ]
  },
  {
   "cell_type": "markdown",
   "metadata": {},
   "source": [
    "### 3. Regression\n",
    "##### a) Linear Regression"
   ]
  },
  {
   "cell_type": "code",
   "execution_count": 24,
   "metadata": {
    "collapsed": false
   },
   "outputs": [
    {
     "data": {
      "text/html": [
       "<div>\n",
       "<table border=\"1\" class=\"dataframe\">\n",
       "  <thead>\n",
       "    <tr style=\"text-align: right;\">\n",
       "      <th></th>\n",
       "      <th>population</th>\n",
       "      <th>householdsize</th>\n",
       "      <th>racepctblack</th>\n",
       "      <th>racePctWhite</th>\n",
       "      <th>racePctAsian</th>\n",
       "      <th>racePctHisp</th>\n",
       "      <th>agePct12t21</th>\n",
       "      <th>agePct12t29</th>\n",
       "      <th>agePct16t24</th>\n",
       "      <th>agePct65up</th>\n",
       "      <th>...</th>\n",
       "      <th>NumStreet</th>\n",
       "      <th>PctForeignBorn</th>\n",
       "      <th>PctBornSameState</th>\n",
       "      <th>PctSameHouse85</th>\n",
       "      <th>PctSameCity85</th>\n",
       "      <th>PctSameState85</th>\n",
       "      <th>LandArea</th>\n",
       "      <th>PopDens</th>\n",
       "      <th>PctUsePubTrans</th>\n",
       "      <th>LemasPctOfficDrugUn</th>\n",
       "    </tr>\n",
       "  </thead>\n",
       "  <tbody>\n",
       "    <tr>\n",
       "      <th>0</th>\n",
       "      <td>0.01</td>\n",
       "      <td>0.61</td>\n",
       "      <td>0.21</td>\n",
       "      <td>0.83</td>\n",
       "      <td>0.02</td>\n",
       "      <td>0.01</td>\n",
       "      <td>0.41</td>\n",
       "      <td>0.49</td>\n",
       "      <td>0.26</td>\n",
       "      <td>0.21</td>\n",
       "      <td>...</td>\n",
       "      <td>0.00</td>\n",
       "      <td>0.03</td>\n",
       "      <td>0.70</td>\n",
       "      <td>0.40</td>\n",
       "      <td>0.34</td>\n",
       "      <td>0.57</td>\n",
       "      <td>0.05</td>\n",
       "      <td>0.06</td>\n",
       "      <td>0.01</td>\n",
       "      <td>0.0</td>\n",
       "    </tr>\n",
       "    <tr>\n",
       "      <th>1</th>\n",
       "      <td>0.01</td>\n",
       "      <td>0.41</td>\n",
       "      <td>0.55</td>\n",
       "      <td>0.57</td>\n",
       "      <td>0.01</td>\n",
       "      <td>0.00</td>\n",
       "      <td>0.47</td>\n",
       "      <td>0.45</td>\n",
       "      <td>0.31</td>\n",
       "      <td>0.57</td>\n",
       "      <td>...</td>\n",
       "      <td>0.00</td>\n",
       "      <td>0.00</td>\n",
       "      <td>0.93</td>\n",
       "      <td>0.66</td>\n",
       "      <td>0.82</td>\n",
       "      <td>0.84</td>\n",
       "      <td>0.11</td>\n",
       "      <td>0.03</td>\n",
       "      <td>0.01</td>\n",
       "      <td>0.0</td>\n",
       "    </tr>\n",
       "    <tr>\n",
       "      <th>2</th>\n",
       "      <td>0.03</td>\n",
       "      <td>0.34</td>\n",
       "      <td>0.86</td>\n",
       "      <td>0.30</td>\n",
       "      <td>0.04</td>\n",
       "      <td>0.01</td>\n",
       "      <td>0.41</td>\n",
       "      <td>0.42</td>\n",
       "      <td>0.27</td>\n",
       "      <td>0.59</td>\n",
       "      <td>...</td>\n",
       "      <td>0.02</td>\n",
       "      <td>0.04</td>\n",
       "      <td>0.77</td>\n",
       "      <td>0.59</td>\n",
       "      <td>0.70</td>\n",
       "      <td>0.64</td>\n",
       "      <td>0.06</td>\n",
       "      <td>0.11</td>\n",
       "      <td>0.04</td>\n",
       "      <td>0.0</td>\n",
       "    </tr>\n",
       "    <tr>\n",
       "      <th>3</th>\n",
       "      <td>0.01</td>\n",
       "      <td>0.38</td>\n",
       "      <td>0.35</td>\n",
       "      <td>0.71</td>\n",
       "      <td>0.04</td>\n",
       "      <td>0.01</td>\n",
       "      <td>0.39</td>\n",
       "      <td>0.46</td>\n",
       "      <td>0.31</td>\n",
       "      <td>0.49</td>\n",
       "      <td>...</td>\n",
       "      <td>0.00</td>\n",
       "      <td>0.03</td>\n",
       "      <td>0.78</td>\n",
       "      <td>0.56</td>\n",
       "      <td>0.67</td>\n",
       "      <td>0.71</td>\n",
       "      <td>0.09</td>\n",
       "      <td>0.05</td>\n",
       "      <td>0.00</td>\n",
       "      <td>0.0</td>\n",
       "    </tr>\n",
       "    <tr>\n",
       "      <th>4</th>\n",
       "      <td>0.04</td>\n",
       "      <td>0.37</td>\n",
       "      <td>0.32</td>\n",
       "      <td>0.70</td>\n",
       "      <td>0.21</td>\n",
       "      <td>0.02</td>\n",
       "      <td>1.00</td>\n",
       "      <td>1.00</td>\n",
       "      <td>1.00</td>\n",
       "      <td>0.14</td>\n",
       "      <td>...</td>\n",
       "      <td>0.00</td>\n",
       "      <td>0.12</td>\n",
       "      <td>0.49</td>\n",
       "      <td>0.12</td>\n",
       "      <td>0.00</td>\n",
       "      <td>0.15</td>\n",
       "      <td>0.09</td>\n",
       "      <td>0.09</td>\n",
       "      <td>0.01</td>\n",
       "      <td>0.0</td>\n",
       "    </tr>\n",
       "  </tbody>\n",
       "</table>\n",
       "<p>5 rows × 100 columns</p>\n",
       "</div>"
      ],
      "text/plain": [
       "   population  householdsize  racepctblack  racePctWhite  racePctAsian  \\\n",
       "0        0.01           0.61          0.21          0.83          0.02   \n",
       "1        0.01           0.41          0.55          0.57          0.01   \n",
       "2        0.03           0.34          0.86          0.30          0.04   \n",
       "3        0.01           0.38          0.35          0.71          0.04   \n",
       "4        0.04           0.37          0.32          0.70          0.21   \n",
       "\n",
       "   racePctHisp  agePct12t21  agePct12t29  agePct16t24  agePct65up  \\\n",
       "0         0.01         0.41         0.49         0.26        0.21   \n",
       "1         0.00         0.47         0.45         0.31        0.57   \n",
       "2         0.01         0.41         0.42         0.27        0.59   \n",
       "3         0.01         0.39         0.46         0.31        0.49   \n",
       "4         0.02         1.00         1.00         1.00        0.14   \n",
       "\n",
       "          ...           NumStreet  PctForeignBorn  PctBornSameState  \\\n",
       "0         ...                0.00            0.03              0.70   \n",
       "1         ...                0.00            0.00              0.93   \n",
       "2         ...                0.02            0.04              0.77   \n",
       "3         ...                0.00            0.03              0.78   \n",
       "4         ...                0.00            0.12              0.49   \n",
       "\n",
       "   PctSameHouse85  PctSameCity85  PctSameState85  LandArea  PopDens  \\\n",
       "0            0.40           0.34            0.57      0.05     0.06   \n",
       "1            0.66           0.82            0.84      0.11     0.03   \n",
       "2            0.59           0.70            0.64      0.06     0.11   \n",
       "3            0.56           0.67            0.71      0.09     0.05   \n",
       "4            0.12           0.00            0.15      0.09     0.09   \n",
       "\n",
       "   PctUsePubTrans  LemasPctOfficDrugUn  \n",
       "0            0.01                  0.0  \n",
       "1            0.01                  0.0  \n",
       "2            0.04                  0.0  \n",
       "3            0.00                  0.0  \n",
       "4            0.01                  0.0  \n",
       "\n",
       "[5 rows x 100 columns]"
      ]
     },
     "execution_count": 24,
     "metadata": {},
     "output_type": "execute_result"
    }
   ],
   "source": [
    "x = CummCrime.drop(['ViolentCrimesPerPop','highCrime'],1)\n",
    "y = CummCrime['ViolentCrimesPerPop']\n",
    "x.head()"
   ]
  },
  {
   "cell_type": "code",
   "execution_count": 25,
   "metadata": {
    "collapsed": false
   },
   "outputs": [
    {
     "data": {
      "text/plain": [
       "0    0.06\n",
       "1    0.14\n",
       "2    1.00\n",
       "3    0.23\n",
       "4    0.15\n",
       "Name: ViolentCrimesPerPop, dtype: float64"
      ]
     },
     "execution_count": 25,
     "metadata": {},
     "output_type": "execute_result"
    }
   ],
   "source": [
    "y.head()"
   ]
  },
  {
   "cell_type": "markdown",
   "metadata": {},
   "source": [
    "Fitting our dataset to LinearRegression Model"
   ]
  },
  {
   "cell_type": "code",
   "execution_count": 26,
   "metadata": {
    "collapsed": false
   },
   "outputs": [
    {
     "data": {
      "text/plain": [
       "LinearRegression(copy_X=True, fit_intercept=True, n_jobs=1, normalize=False)"
      ]
     },
     "execution_count": 26,
     "metadata": {},
     "output_type": "execute_result"
    }
   ],
   "source": [
    "lm = LinearRegression()\n",
    "lm.fit(x,y)"
   ]
  },
  {
   "cell_type": "markdown",
   "metadata": {},
   "source": [
    "##### i) Mean Squared Error with 10 fold Cross Validation"
   ]
  },
  {
   "cell_type": "code",
   "execution_count": 27,
   "metadata": {
    "collapsed": false
   },
   "outputs": [
    {
     "name": "stdout",
     "output_type": "stream",
     "text": [
      "Estimated MSE of the model -0.02 (+/- 0.01)\n"
     ]
    }
   ],
   "source": [
    "print(\"Estimated MSE of the model %0.2f (+/- %0.2f)\" %(cross_val_score(lm,x,y,scoring = 'neg_mean_squared_error',cv = 10).mean(),(cross_val_score(lm,x,y,scoring = 'neg_mean_squared_error',cv = 10).std()*2)))"
   ]
  },
  {
   "cell_type": "markdown",
   "metadata": {},
   "source": [
    "##### ii) Mean Squared Error on training set"
   ]
  },
  {
   "cell_type": "code",
   "execution_count": 28,
   "metadata": {
    "collapsed": false
   },
   "outputs": [
    {
     "name": "stdout",
     "output_type": "stream",
     "text": [
      "MSE of the Training set 0.0165\n"
     ]
    }
   ],
   "source": [
    "predictions = lm.predict(x)\n",
    "print('MSE of the Training set %0.4f' %(metrics.mean_squared_error(y, predictions)))"
   ]
  },
  {
   "cell_type": "markdown",
   "metadata": {},
   "source": [
    "Plotting Linear Regression graph"
   ]
  },
  {
   "cell_type": "code",
   "execution_count": 29,
   "metadata": {
    "collapsed": false
   },
   "outputs": [
    {
     "data": {
      "text/plain": [
       "<matplotlib.collections.PathCollection at 0x1c79b0e1eb8>"
      ]
     },
     "execution_count": 29,
     "metadata": {},
     "output_type": "execute_result"
    },
    {
     "data": {
      "image/png": "[encoded data removed]",
      "text/plain": [
       "<matplotlib.figure.Figure at 0x1c79ab5cc18>"
      ]
     },
     "metadata": {},
     "output_type": "display_data"
    }
   ],
   "source": [
    "plt.scatter(y,predictions)"
   ]
  },
  {
   "cell_type": "markdown",
   "metadata": {},
   "source": [
    "Column Names:"
   ]
  },
  {
   "cell_type": "code",
   "execution_count": 30,
   "metadata": {
    "collapsed": false
   },
   "outputs": [
    {
     "data": {
      "text/plain": [
       "Index(['population', 'householdsize', 'racepctblack', 'racePctWhite',\n",
       "       'racePctAsian', 'racePctHisp', 'agePct12t21', 'agePct12t29',\n",
       "       'agePct16t24', 'agePct65up', 'numbUrban', 'pctUrban', 'medIncome',\n",
       "       'pctWWage', 'pctWFarmSelf', 'pctWInvInc', 'pctWSocSec', 'pctWPubAsst',\n",
       "       'pctWRetire', 'medFamInc', 'perCapInc', 'whitePerCap', 'blackPerCap',\n",
       "       'indianPerCap', 'AsianPerCap', 'OtherPerCap', 'HispPerCap',\n",
       "       'NumUnderPov', 'PctPopUnderPov', 'PctLess9thGrade', 'PctNotHSGrad',\n",
       "       'PctBSorMore', 'PctUnemployed', 'PctEmploy', 'PctEmplManu',\n",
       "       'PctEmplProfServ', 'PctOccupManu', 'PctOccupMgmtProf', 'MalePctDivorce',\n",
       "       'MalePctNevMarr', 'FemalePctDiv', 'TotalPctDiv', 'PersPerFam',\n",
       "       'PctFam2Par', 'PctKids2Par', 'PctYoungKids2Par', 'PctTeen2Par',\n",
       "       'PctWorkMomYoungKids', 'PctWorkMom', 'NumIlleg', 'PctIlleg', 'NumImmig',\n",
       "       'PctImmigRecent', 'PctImmigRec5', 'PctImmigRec8', 'PctImmigRec10',\n",
       "       'PctRecentImmig', 'PctRecImmig5', 'PctRecImmig8', 'PctRecImmig10',\n",
       "       'PctSpeakEnglOnly', 'PctNotSpeakEnglWell', 'PctLargHouseFam',\n",
       "       'PctLargHouseOccup', 'PersPerOccupHous', 'PersPerOwnOccHous',\n",
       "       'PersPerRentOccHous', 'PctPersOwnOccup', 'PctPersDenseHous',\n",
       "       'PctHousLess3BR', 'MedNumBR', 'HousVacant', 'PctHousOccup',\n",
       "       'PctHousOwnOcc', 'PctVacantBoarded', 'PctVacMore6Mos', 'MedYrHousBuilt',\n",
       "       'PctHousNoPhone', 'PctWOFullPlumb', 'OwnOccLowQuart', 'OwnOccMedVal',\n",
       "       'OwnOccHiQuart', 'RentLowQ', 'RentMedian', 'RentHighQ', 'MedRent',\n",
       "       'MedRentPctHousInc', 'MedOwnCostPctInc', 'MedOwnCostPctIncNoMtg',\n",
       "       'NumInShelters', 'NumStreet', 'PctForeignBorn', 'PctBornSameState',\n",
       "       'PctSameHouse85', 'PctSameCity85', 'PctSameState85', 'LandArea',\n",
       "       'PopDens', 'PctUsePubTrans', 'LemasPctOfficDrugUn'],\n",
       "      dtype='object')"
      ]
     },
     "execution_count": 30,
     "metadata": {},
     "output_type": "execute_result"
    }
   ],
   "source": [
    "x.columns"
   ]
  },
  {
   "cell_type": "markdown",
   "metadata": {},
   "source": [
    "##### iii) Features are most predictive of a high crime rate"
   ]
  },
  {
   "cell_type": "code",
   "execution_count": 31,
   "metadata": {
    "collapsed": false,
    "scrolled": true
   },
   "outputs": [
    {
     "data": {
      "text/html": [
       "<div>\n",
       "<table border=\"1\" class=\"dataframe\">\n",
       "  <thead>\n",
       "    <tr style=\"text-align: right;\">\n",
       "      <th></th>\n",
       "      <th>coef</th>\n",
       "    </tr>\n",
       "  </thead>\n",
       "  <tbody>\n",
       "    <tr>\n",
       "      <th>PersPerOccupHous</th>\n",
       "      <td>0.635088</td>\n",
       "    </tr>\n",
       "    <tr>\n",
       "      <th>PctHousOwnOcc</th>\n",
       "      <td>0.568133</td>\n",
       "    </tr>\n",
       "    <tr>\n",
       "      <th>MalePctDivorce</th>\n",
       "      <td>0.458517</td>\n",
       "    </tr>\n",
       "    <tr>\n",
       "      <th>PctRecImmig8</th>\n",
       "      <td>0.432511</td>\n",
       "    </tr>\n",
       "    <tr>\n",
       "      <th>MedRent</th>\n",
       "      <td>0.372728</td>\n",
       "    </tr>\n",
       "    <tr>\n",
       "      <th>medFamInc</th>\n",
       "      <td>0.287979</td>\n",
       "    </tr>\n",
       "    <tr>\n",
       "      <th>PctEmploy</th>\n",
       "      <td>0.248474</td>\n",
       "    </tr>\n",
       "    <tr>\n",
       "      <th>MalePctNevMarr</th>\n",
       "      <td>0.226728</td>\n",
       "    </tr>\n",
       "    <tr>\n",
       "      <th>PctPersDenseHous</th>\n",
       "      <td>0.214353</td>\n",
       "    </tr>\n",
       "    <tr>\n",
       "      <th>OwnOccMedVal</th>\n",
       "      <td>0.212876</td>\n",
       "    </tr>\n",
       "  </tbody>\n",
       "</table>\n",
       "</div>"
      ],
      "text/plain": [
       "                      coef\n",
       "PersPerOccupHous  0.635088\n",
       "PctHousOwnOcc     0.568133\n",
       "MalePctDivorce    0.458517\n",
       "PctRecImmig8      0.432511\n",
       "MedRent           0.372728\n",
       "medFamInc         0.287979\n",
       "PctEmploy         0.248474\n",
       "MalePctNevMarr    0.226728\n",
       "PctPersDenseHous  0.214353\n",
       "OwnOccMedVal      0.212876"
      ]
     },
     "execution_count": 31,
     "metadata": {},
     "output_type": "execute_result"
    }
   ],
   "source": [
    "ImpFeatures2 = pd.DataFrame(lm.coef_,x.columns,columns=['coef']).sort_values(by='coef',ascending=0)\n",
    "ImpFeatures2.head(10)"
   ]
  },
  {
   "cell_type": "markdown",
   "metadata": {},
   "source": [
    "##### Features are most predictive of a Low crime rate"
   ]
  },
  {
   "cell_type": "code",
   "execution_count": 32,
   "metadata": {
    "collapsed": false
   },
   "outputs": [
    {
     "data": {
      "text/html": [
       "<div>\n",
       "<table border=\"1\" class=\"dataframe\">\n",
       "  <thead>\n",
       "    <tr style=\"text-align: right;\">\n",
       "      <th></th>\n",
       "      <th>coef</th>\n",
       "    </tr>\n",
       "  </thead>\n",
       "  <tbody>\n",
       "    <tr>\n",
       "      <th>PctRecImmig5</th>\n",
       "      <td>-0.218221</td>\n",
       "    </tr>\n",
       "    <tr>\n",
       "      <th>agePct12t29</th>\n",
       "      <td>-0.229218</td>\n",
       "    </tr>\n",
       "    <tr>\n",
       "      <th>RentLowQ</th>\n",
       "      <td>-0.234752</td>\n",
       "    </tr>\n",
       "    <tr>\n",
       "      <th>PersPerRentOccHous</th>\n",
       "      <td>-0.254572</td>\n",
       "    </tr>\n",
       "    <tr>\n",
       "      <th>numbUrban</th>\n",
       "      <td>-0.296443</td>\n",
       "    </tr>\n",
       "    <tr>\n",
       "      <th>OwnOccLowQuart</th>\n",
       "      <td>-0.308170</td>\n",
       "    </tr>\n",
       "    <tr>\n",
       "      <th>PctKids2Par</th>\n",
       "      <td>-0.322651</td>\n",
       "    </tr>\n",
       "    <tr>\n",
       "      <th>whitePerCap</th>\n",
       "      <td>-0.351016</td>\n",
       "    </tr>\n",
       "    <tr>\n",
       "      <th>TotalPctDiv</th>\n",
       "      <td>-0.561924</td>\n",
       "    </tr>\n",
       "    <tr>\n",
       "      <th>PctPersOwnOccup</th>\n",
       "      <td>-0.675694</td>\n",
       "    </tr>\n",
       "  </tbody>\n",
       "</table>\n",
       "</div>"
      ],
      "text/plain": [
       "                        coef\n",
       "PctRecImmig5       -0.218221\n",
       "agePct12t29        -0.229218\n",
       "RentLowQ           -0.234752\n",
       "PersPerRentOccHous -0.254572\n",
       "numbUrban          -0.296443\n",
       "OwnOccLowQuart     -0.308170\n",
       "PctKids2Par        -0.322651\n",
       "whitePerCap        -0.351016\n",
       "TotalPctDiv        -0.561924\n",
       "PctPersOwnOccup    -0.675694"
      ]
     },
     "execution_count": 32,
     "metadata": {},
     "output_type": "execute_result"
    }
   ],
   "source": [
    "ImpFeatures2.tail(10)"
   ]
  },
  {
   "cell_type": "markdown",
   "metadata": {},
   "source": [
    "### b). RidgeRegression"
   ]
  },
  {
   "cell_type": "markdown",
   "metadata": {},
   "source": [
    "Fitting our dataset to RidgeCV Model"
   ]
  },
  {
   "cell_type": "code",
   "execution_count": 33,
   "metadata": {
    "collapsed": false
   },
   "outputs": [
    {
     "data": {
      "text/plain": [
       "RidgeCV(alphas=[10, 1, 0.1, 0.01, 0.001], cv=None, fit_intercept=True,\n",
       "    gcv_mode=None, normalize=False, scoring=None, store_cv_values=False)"
      ]
     },
     "execution_count": 33,
     "metadata": {},
     "output_type": "execute_result"
    }
   ],
   "source": [
    "rcv = RidgeCV(alphas=[10,1,0.1,0.01,0.001])\n",
    "rcv.fit(x,y)"
   ]
  },
  {
   "cell_type": "markdown",
   "metadata": {},
   "source": [
    "##### i) Mean Squared Error with 10 fold Cross Validation"
   ]
  },
  {
   "cell_type": "code",
   "execution_count": 34,
   "metadata": {
    "collapsed": false
   },
   "outputs": [
    {
     "name": "stdout",
     "output_type": "stream",
     "text": [
      "Estimated MSE of the model -0.0198 (+/- 0.01)\n"
     ]
    }
   ],
   "source": [
    "print(\"Estimated MSE of the model %0.4f (+/- %0.2f)\" %(cross_val_score(rcv,x,y,scoring='neg_mean_squared_error',cv=10).mean(),(cross_val_score(rcv,x,y,scoring='neg_mean_squared_error',cv=10).std()*2)))"
   ]
  },
  {
   "cell_type": "markdown",
   "metadata": {},
   "source": [
    "##### ii) Mean Squared Error on the training set "
   ]
  },
  {
   "cell_type": "code",
   "execution_count": 35,
   "metadata": {
    "collapsed": false
   },
   "outputs": [
    {
     "name": "stdout",
     "output_type": "stream",
     "text": [
      "MSE of the Training set 0.0168\n"
     ]
    }
   ],
   "source": [
    "predictions1 = rcv.predict(x)\n",
    "\n",
    "print(\"MSE of the Training set %0.4f\" %(metrics.mean_squared_error(y, predictions1)))"
   ]
  },
  {
   "cell_type": "markdown",
   "metadata": {},
   "source": [
    "##### iii) Best Alpha from [10,1,0.1,0.01,0.001]"
   ]
  },
  {
   "cell_type": "code",
   "execution_count": 36,
   "metadata": {
    "collapsed": false
   },
   "outputs": [
    {
     "name": "stdout",
     "output_type": "stream",
     "text": [
      "The best alpha is 1.0\n"
     ]
    }
   ],
   "source": [
    "print(\"The best alpha is\", rcv.alpha_)"
   ]
  },
  {
   "cell_type": "markdown",
   "metadata": {},
   "source": [
    "##### iv). The amount of overfitting in linear regression\n",
    "The Mean squared error which was computed in Linear Regression is 0.0165 and Ridge Regression MSE is 0.0168. We observe that the squared error has increase. When a model is overfitted to the training set then the squared error is closer to zero. Now in this scenario, we can see that the MSE for Linear Regression is lower than Ridge thus we can assume that Linear Regression model is more overfitted than the Ridge model for this dataset. More Overfitting means lower bias and higher variance. "
   ]
  },
  {
   "cell_type": "markdown",
   "metadata": {},
   "source": [
    "### c). Polynomial Features"
   ]
  },
  {
   "cell_type": "code",
   "execution_count": 37,
   "metadata": {
    "collapsed": false
   },
   "outputs": [
    {
     "data": {
      "text/plain": [
       "Pipeline(steps=[('polynomial_features', PolynomialFeatures(degree=2, include_bias=True, interaction_only=False)), ('linear_regression', LinearRegression(copy_X=True, fit_intercept=True, n_jobs=1, normalize=False))])"
      ]
     },
     "execution_count": 37,
     "metadata": {},
     "output_type": "execute_result"
    }
   ],
   "source": [
    "poly = PolynomialFeatures(degree=2)\n",
    "linear_regression = LinearRegression()\n",
    "\n",
    "ppl = Pipeline([(\"polynomial_features\", poly),\n",
    "                         (\"linear_regression\", linear_regression)])\n",
    "ppl.fit(x,y)"
   ]
  },
  {
   "cell_type": "markdown",
   "metadata": {},
   "source": [
    "##### i) Mean Squared Error with 10 fold Cross Validation"
   ]
  },
  {
   "cell_type": "code",
   "execution_count": 38,
   "metadata": {
    "collapsed": false
   },
   "outputs": [
    {
     "name": "stdout",
     "output_type": "stream",
     "text": [
      "Estimated MSE of the model -0.13 (+/- 0.08)\n"
     ]
    }
   ],
   "source": [
    "print(\"Estimated MSE of the model %0.2f (+/- %0.2f)\" %(cross_val_score(ppl,x,y,scoring = 'neg_mean_squared_error',cv = 10).mean(),(cross_val_score(ppl,x,y,scoring = 'neg_mean_squared_error',cv = 10).std()*2)))"
   ]
  },
  {
   "cell_type": "markdown",
   "metadata": {},
   "source": [
    "##### ii). The Mean Squared error on the training set "
   ]
  },
  {
   "cell_type": "code",
   "execution_count": 39,
   "metadata": {
    "collapsed": false
   },
   "outputs": [
    {
     "name": "stdout",
     "output_type": "stream",
     "text": [
      "MSE of the Training set: 1.69580219538e-28\n"
     ]
    }
   ],
   "source": [
    "predictions2 = ppl.predict(x)\n",
    "print('MSE of the Training set:', metrics.mean_squared_error(y, predictions2))"
   ]
  },
  {
   "cell_type": "markdown",
   "metadata": {},
   "source": [
    "##### ii). The Mean Squared error on the training set \n",
    "The Mean Squared Errors for both Polynomial and Linear Regression came out to be the different. We have to observe the fact that the polynomial regression is special case of linear regression and the MSE values decreases and so the overfitting increases.  Quadratic model is not better than linear model."
   ]
  },
  {
   "cell_type": "markdown",
   "metadata": {},
   "source": [
    "# 4.Dirty Data"
   ]
  },
  {
   "cell_type": "code",
   "execution_count": 40,
   "metadata": {
    "collapsed": false
   },
   "outputs": [
    {
     "name": "stdout",
     "output_type": "stream",
     "text": [
      "<class 'pandas.core.frame.DataFrame'>\n",
      "RangeIndex: 1994 entries, 0 to 1993\n",
      "Columns: 125 entries, county to ViolentCrimesPerPop\n",
      "dtypes: float64(100), object(25)\n",
      "memory usage: 1.9+ MB\n"
     ]
    }
   ],
   "source": [
    "CummCrimeDd = pd.read_csv('communities-crime-full.csv')\n",
    "CummCrimeDd = CummCrimeDd.drop(['state','communityname','fold'],axis=1)\n",
    "CummCrimeDd.info()"
   ]
  },
  {
   "cell_type": "code",
   "execution_count": 41,
   "metadata": {
    "collapsed": false
   },
   "outputs": [
    {
     "data": {
      "text/html": [
       "<div>\n",
       "<table border=\"1\" class=\"dataframe\">\n",
       "  <thead>\n",
       "    <tr style=\"text-align: right;\">\n",
       "      <th></th>\n",
       "      <th>county</th>\n",
       "      <th>community</th>\n",
       "      <th>population</th>\n",
       "      <th>householdsize</th>\n",
       "      <th>racepctblack</th>\n",
       "      <th>racePctWhite</th>\n",
       "      <th>racePctAsian</th>\n",
       "      <th>racePctHisp</th>\n",
       "      <th>agePct12t21</th>\n",
       "      <th>agePct12t29</th>\n",
       "      <th>...</th>\n",
       "      <th>PopDens</th>\n",
       "      <th>PctUsePubTrans</th>\n",
       "      <th>PolicCars</th>\n",
       "      <th>PolicOperBudg</th>\n",
       "      <th>LemasPctPolicOnPatr</th>\n",
       "      <th>LemasGangUnitDeploy</th>\n",
       "      <th>LemasPctOfficDrugUn</th>\n",
       "      <th>PolicBudgPerPop</th>\n",
       "      <th>ViolentCrimesPerPop</th>\n",
       "      <th>highCrime</th>\n",
       "    </tr>\n",
       "  </thead>\n",
       "  <tbody>\n",
       "    <tr>\n",
       "      <th>0</th>\n",
       "      <td>?</td>\n",
       "      <td>?</td>\n",
       "      <td>0.19</td>\n",
       "      <td>0.33</td>\n",
       "      <td>0.02</td>\n",
       "      <td>0.90</td>\n",
       "      <td>0.12</td>\n",
       "      <td>0.17</td>\n",
       "      <td>0.34</td>\n",
       "      <td>0.47</td>\n",
       "      <td>...</td>\n",
       "      <td>0.26</td>\n",
       "      <td>0.20</td>\n",
       "      <td>0.06</td>\n",
       "      <td>0.04</td>\n",
       "      <td>0.9</td>\n",
       "      <td>0.5</td>\n",
       "      <td>0.32</td>\n",
       "      <td>0.14</td>\n",
       "      <td>0.20</td>\n",
       "      <td>True</td>\n",
       "    </tr>\n",
       "    <tr>\n",
       "      <th>1</th>\n",
       "      <td>?</td>\n",
       "      <td>?</td>\n",
       "      <td>0.00</td>\n",
       "      <td>0.16</td>\n",
       "      <td>0.12</td>\n",
       "      <td>0.74</td>\n",
       "      <td>0.45</td>\n",
       "      <td>0.07</td>\n",
       "      <td>0.26</td>\n",
       "      <td>0.59</td>\n",
       "      <td>...</td>\n",
       "      <td>0.12</td>\n",
       "      <td>0.45</td>\n",
       "      <td>?</td>\n",
       "      <td>?</td>\n",
       "      <td>?</td>\n",
       "      <td>?</td>\n",
       "      <td>0.00</td>\n",
       "      <td>?</td>\n",
       "      <td>0.67</td>\n",
       "      <td>True</td>\n",
       "    </tr>\n",
       "    <tr>\n",
       "      <th>2</th>\n",
       "      <td>?</td>\n",
       "      <td>?</td>\n",
       "      <td>0.00</td>\n",
       "      <td>0.42</td>\n",
       "      <td>0.49</td>\n",
       "      <td>0.56</td>\n",
       "      <td>0.17</td>\n",
       "      <td>0.04</td>\n",
       "      <td>0.39</td>\n",
       "      <td>0.47</td>\n",
       "      <td>...</td>\n",
       "      <td>0.21</td>\n",
       "      <td>0.02</td>\n",
       "      <td>?</td>\n",
       "      <td>?</td>\n",
       "      <td>?</td>\n",
       "      <td>?</td>\n",
       "      <td>0.00</td>\n",
       "      <td>?</td>\n",
       "      <td>0.43</td>\n",
       "      <td>True</td>\n",
       "    </tr>\n",
       "    <tr>\n",
       "      <th>3</th>\n",
       "      <td>5</td>\n",
       "      <td>81440</td>\n",
       "      <td>0.04</td>\n",
       "      <td>0.77</td>\n",
       "      <td>1.00</td>\n",
       "      <td>0.08</td>\n",
       "      <td>0.12</td>\n",
       "      <td>0.10</td>\n",
       "      <td>0.51</td>\n",
       "      <td>0.50</td>\n",
       "      <td>...</td>\n",
       "      <td>0.39</td>\n",
       "      <td>0.28</td>\n",
       "      <td>?</td>\n",
       "      <td>?</td>\n",
       "      <td>?</td>\n",
       "      <td>?</td>\n",
       "      <td>0.00</td>\n",
       "      <td>?</td>\n",
       "      <td>0.12</td>\n",
       "      <td>True</td>\n",
       "    </tr>\n",
       "    <tr>\n",
       "      <th>4</th>\n",
       "      <td>95</td>\n",
       "      <td>6096</td>\n",
       "      <td>0.01</td>\n",
       "      <td>0.55</td>\n",
       "      <td>0.02</td>\n",
       "      <td>0.95</td>\n",
       "      <td>0.09</td>\n",
       "      <td>0.05</td>\n",
       "      <td>0.38</td>\n",
       "      <td>0.38</td>\n",
       "      <td>...</td>\n",
       "      <td>0.09</td>\n",
       "      <td>0.02</td>\n",
       "      <td>?</td>\n",
       "      <td>?</td>\n",
       "      <td>?</td>\n",
       "      <td>?</td>\n",
       "      <td>0.00</td>\n",
       "      <td>?</td>\n",
       "      <td>0.03</td>\n",
       "      <td>False</td>\n",
       "    </tr>\n",
       "  </tbody>\n",
       "</table>\n",
       "<p>5 rows × 126 columns</p>\n",
       "</div>"
      ],
      "text/plain": [
       "  county community  population  householdsize  racepctblack  racePctWhite  \\\n",
       "0      ?         ?        0.19           0.33          0.02          0.90   \n",
       "1      ?         ?        0.00           0.16          0.12          0.74   \n",
       "2      ?         ?        0.00           0.42          0.49          0.56   \n",
       "3      5     81440        0.04           0.77          1.00          0.08   \n",
       "4     95      6096        0.01           0.55          0.02          0.95   \n",
       "\n",
       "   racePctAsian  racePctHisp  agePct12t21  agePct12t29    ...      PopDens  \\\n",
       "0          0.12         0.17         0.34         0.47    ...         0.26   \n",
       "1          0.45         0.07         0.26         0.59    ...         0.12   \n",
       "2          0.17         0.04         0.39         0.47    ...         0.21   \n",
       "3          0.12         0.10         0.51         0.50    ...         0.39   \n",
       "4          0.09         0.05         0.38         0.38    ...         0.09   \n",
       "\n",
       "   PctUsePubTrans  PolicCars  PolicOperBudg  LemasPctPolicOnPatr  \\\n",
       "0            0.20       0.06           0.04                  0.9   \n",
       "1            0.45          ?              ?                    ?   \n",
       "2            0.02          ?              ?                    ?   \n",
       "3            0.28          ?              ?                    ?   \n",
       "4            0.02          ?              ?                    ?   \n",
       "\n",
       "   LemasGangUnitDeploy  LemasPctOfficDrugUn  PolicBudgPerPop  \\\n",
       "0                  0.5                 0.32             0.14   \n",
       "1                    ?                 0.00                ?   \n",
       "2                    ?                 0.00                ?   \n",
       "3                    ?                 0.00                ?   \n",
       "4                    ?                 0.00                ?   \n",
       "\n",
       "   ViolentCrimesPerPop  highCrime  \n",
       "0                 0.20       True  \n",
       "1                 0.67       True  \n",
       "2                 0.43       True  \n",
       "3                 0.12       True  \n",
       "4                 0.03      False  \n",
       "\n",
       "[5 rows x 126 columns]"
      ]
     },
     "execution_count": 41,
     "metadata": {},
     "output_type": "execute_result"
    }
   ],
   "source": [
    "crimeRate1 = []\n",
    "for rows in CummCrimeDd['ViolentCrimesPerPop']:\n",
    "    if rows > 0.1:\n",
    "        crimeRate1.append('True')\n",
    "    else:\n",
    "        crimeRate1.append('False')\n",
    "        \n",
    "CummCrimeDd['highCrime'] = crimeRate1\n",
    "CummCrimeDd.head()"
   ]
  },
  {
   "cell_type": "code",
   "execution_count": 42,
   "metadata": {
    "collapsed": false
   },
   "outputs": [
    {
     "name": "stdout",
     "output_type": "stream",
     "text": [
      "Number of positive and negative instances in the dataset:\n",
      " True     1251\n",
      "False     743\n",
      "Name: highCrime, dtype: int64\n"
     ]
    }
   ],
   "source": [
    "print(\"Number of positive and negative instances in the dataset:\\n\",CummCrimeDd['highCrime'].value_counts())"
   ]
  },
  {
   "cell_type": "code",
   "execution_count": 43,
   "metadata": {
    "collapsed": false
   },
   "outputs": [
    {
     "name": "stdout",
     "output_type": "stream",
     "text": [
      "Percentage of positive and negative instances in the dataset:\n",
      " True     0.627382\n",
      "False    0.372618\n",
      "Name: highCrime, dtype: float64\n"
     ]
    }
   ],
   "source": [
    "print(\"Percentage of positive and negative instances in the dataset:\\n\",CummCrimeDd['highCrime'].value_counts(normalize = True))"
   ]
  },
  {
   "cell_type": "markdown",
   "metadata": {},
   "source": [
    "Replacing \"?\" with NaN values"
   ]
  },
  {
   "cell_type": "code",
   "execution_count": 44,
   "metadata": {
    "collapsed": false
   },
   "outputs": [
    {
     "data": {
      "text/html": [
       "<div>\n",
       "<table border=\"1\" class=\"dataframe\">\n",
       "  <thead>\n",
       "    <tr style=\"text-align: right;\">\n",
       "      <th></th>\n",
       "      <th>county</th>\n",
       "      <th>community</th>\n",
       "      <th>population</th>\n",
       "      <th>householdsize</th>\n",
       "      <th>racepctblack</th>\n",
       "      <th>racePctWhite</th>\n",
       "      <th>racePctAsian</th>\n",
       "      <th>racePctHisp</th>\n",
       "      <th>agePct12t21</th>\n",
       "      <th>agePct12t29</th>\n",
       "      <th>...</th>\n",
       "      <th>PopDens</th>\n",
       "      <th>PctUsePubTrans</th>\n",
       "      <th>PolicCars</th>\n",
       "      <th>PolicOperBudg</th>\n",
       "      <th>LemasPctPolicOnPatr</th>\n",
       "      <th>LemasGangUnitDeploy</th>\n",
       "      <th>LemasPctOfficDrugUn</th>\n",
       "      <th>PolicBudgPerPop</th>\n",
       "      <th>ViolentCrimesPerPop</th>\n",
       "      <th>highCrime</th>\n",
       "    </tr>\n",
       "  </thead>\n",
       "  <tbody>\n",
       "    <tr>\n",
       "      <th>0</th>\n",
       "      <td>NaN</td>\n",
       "      <td>NaN</td>\n",
       "      <td>0.19</td>\n",
       "      <td>0.33</td>\n",
       "      <td>0.02</td>\n",
       "      <td>0.90</td>\n",
       "      <td>0.12</td>\n",
       "      <td>0.17</td>\n",
       "      <td>0.34</td>\n",
       "      <td>0.47</td>\n",
       "      <td>...</td>\n",
       "      <td>0.26</td>\n",
       "      <td>0.20</td>\n",
       "      <td>0.06</td>\n",
       "      <td>0.04</td>\n",
       "      <td>0.9</td>\n",
       "      <td>0.5</td>\n",
       "      <td>0.32</td>\n",
       "      <td>0.14</td>\n",
       "      <td>0.20</td>\n",
       "      <td>True</td>\n",
       "    </tr>\n",
       "    <tr>\n",
       "      <th>1</th>\n",
       "      <td>NaN</td>\n",
       "      <td>NaN</td>\n",
       "      <td>0.00</td>\n",
       "      <td>0.16</td>\n",
       "      <td>0.12</td>\n",
       "      <td>0.74</td>\n",
       "      <td>0.45</td>\n",
       "      <td>0.07</td>\n",
       "      <td>0.26</td>\n",
       "      <td>0.59</td>\n",
       "      <td>...</td>\n",
       "      <td>0.12</td>\n",
       "      <td>0.45</td>\n",
       "      <td>NaN</td>\n",
       "      <td>NaN</td>\n",
       "      <td>NaN</td>\n",
       "      <td>NaN</td>\n",
       "      <td>0.00</td>\n",
       "      <td>NaN</td>\n",
       "      <td>0.67</td>\n",
       "      <td>True</td>\n",
       "    </tr>\n",
       "    <tr>\n",
       "      <th>2</th>\n",
       "      <td>NaN</td>\n",
       "      <td>NaN</td>\n",
       "      <td>0.00</td>\n",
       "      <td>0.42</td>\n",
       "      <td>0.49</td>\n",
       "      <td>0.56</td>\n",
       "      <td>0.17</td>\n",
       "      <td>0.04</td>\n",
       "      <td>0.39</td>\n",
       "      <td>0.47</td>\n",
       "      <td>...</td>\n",
       "      <td>0.21</td>\n",
       "      <td>0.02</td>\n",
       "      <td>NaN</td>\n",
       "      <td>NaN</td>\n",
       "      <td>NaN</td>\n",
       "      <td>NaN</td>\n",
       "      <td>0.00</td>\n",
       "      <td>NaN</td>\n",
       "      <td>0.43</td>\n",
       "      <td>True</td>\n",
       "    </tr>\n",
       "    <tr>\n",
       "      <th>3</th>\n",
       "      <td>5</td>\n",
       "      <td>81440</td>\n",
       "      <td>0.04</td>\n",
       "      <td>0.77</td>\n",
       "      <td>1.00</td>\n",
       "      <td>0.08</td>\n",
       "      <td>0.12</td>\n",
       "      <td>0.10</td>\n",
       "      <td>0.51</td>\n",
       "      <td>0.50</td>\n",
       "      <td>...</td>\n",
       "      <td>0.39</td>\n",
       "      <td>0.28</td>\n",
       "      <td>NaN</td>\n",
       "      <td>NaN</td>\n",
       "      <td>NaN</td>\n",
       "      <td>NaN</td>\n",
       "      <td>0.00</td>\n",
       "      <td>NaN</td>\n",
       "      <td>0.12</td>\n",
       "      <td>True</td>\n",
       "    </tr>\n",
       "    <tr>\n",
       "      <th>4</th>\n",
       "      <td>95</td>\n",
       "      <td>6096</td>\n",
       "      <td>0.01</td>\n",
       "      <td>0.55</td>\n",
       "      <td>0.02</td>\n",
       "      <td>0.95</td>\n",
       "      <td>0.09</td>\n",
       "      <td>0.05</td>\n",
       "      <td>0.38</td>\n",
       "      <td>0.38</td>\n",
       "      <td>...</td>\n",
       "      <td>0.09</td>\n",
       "      <td>0.02</td>\n",
       "      <td>NaN</td>\n",
       "      <td>NaN</td>\n",
       "      <td>NaN</td>\n",
       "      <td>NaN</td>\n",
       "      <td>0.00</td>\n",
       "      <td>NaN</td>\n",
       "      <td>0.03</td>\n",
       "      <td>False</td>\n",
       "    </tr>\n",
       "  </tbody>\n",
       "</table>\n",
       "<p>5 rows × 126 columns</p>\n",
       "</div>"
      ],
      "text/plain": [
       "  county community  population  householdsize  racepctblack  racePctWhite  \\\n",
       "0    NaN       NaN        0.19           0.33          0.02          0.90   \n",
       "1    NaN       NaN        0.00           0.16          0.12          0.74   \n",
       "2    NaN       NaN        0.00           0.42          0.49          0.56   \n",
       "3      5     81440        0.04           0.77          1.00          0.08   \n",
       "4     95      6096        0.01           0.55          0.02          0.95   \n",
       "\n",
       "   racePctAsian  racePctHisp  agePct12t21  agePct12t29    ...      PopDens  \\\n",
       "0          0.12         0.17         0.34         0.47    ...         0.26   \n",
       "1          0.45         0.07         0.26         0.59    ...         0.12   \n",
       "2          0.17         0.04         0.39         0.47    ...         0.21   \n",
       "3          0.12         0.10         0.51         0.50    ...         0.39   \n",
       "4          0.09         0.05         0.38         0.38    ...         0.09   \n",
       "\n",
       "   PctUsePubTrans  PolicCars  PolicOperBudg  LemasPctPolicOnPatr  \\\n",
       "0            0.20       0.06           0.04                  0.9   \n",
       "1            0.45        NaN            NaN                  NaN   \n",
       "2            0.02        NaN            NaN                  NaN   \n",
       "3            0.28        NaN            NaN                  NaN   \n",
       "4            0.02        NaN            NaN                  NaN   \n",
       "\n",
       "   LemasGangUnitDeploy  LemasPctOfficDrugUn  PolicBudgPerPop  \\\n",
       "0                  0.5                 0.32             0.14   \n",
       "1                  NaN                 0.00              NaN   \n",
       "2                  NaN                 0.00              NaN   \n",
       "3                  NaN                 0.00              NaN   \n",
       "4                  NaN                 0.00              NaN   \n",
       "\n",
       "   ViolentCrimesPerPop  highCrime  \n",
       "0                 0.20       True  \n",
       "1                 0.67       True  \n",
       "2                 0.43       True  \n",
       "3                 0.12       True  \n",
       "4                 0.03      False  \n",
       "\n",
       "[5 rows x 126 columns]"
      ]
     },
     "execution_count": 44,
     "metadata": {},
     "output_type": "execute_result"
    }
   ],
   "source": [
    "CummCrimeDd.replace('?',np.nan,inplace=True)\n",
    "CummCrimeDd.head()"
   ]
  },
  {
   "cell_type": "markdown",
   "metadata": {},
   "source": [
    "Checking missing values"
   ]
  },
  {
   "cell_type": "code",
   "execution_count": 45,
   "metadata": {
    "collapsed": false
   },
   "outputs": [
    {
     "data": {
      "text/plain": [
       "<matplotlib.axes._subplots.AxesSubplot at 0x1c79ba4c390>"
      ]
     },
     "execution_count": 45,
     "metadata": {},
     "output_type": "execute_result"
    },
    {
     "data": {
      "image/png": "[encoded data removed]",
      "text/plain": [
       "<matplotlib.figure.Figure at 0x1c79b1784e0>"
      ]
     },
     "metadata": {},
     "output_type": "display_data"
    }
   ],
   "source": [
    "import seaborn as sns\n",
    "\n",
    "plt.figure(figsize=(18, 8))\n",
    "sns.heatmap(CummCrimeDd.isnull(),yticklabels=False,cbar=False,cmap='viridis')"
   ]
  },
  {
   "cell_type": "markdown",
   "metadata": {},
   "source": [
    "Deleting column with maximum number of Null values"
   ]
  },
  {
   "cell_type": "code",
   "execution_count": 46,
   "metadata": {
    "collapsed": false,
    "scrolled": true
   },
   "outputs": [
    {
     "data": {
      "text/html": [
       "<div>\n",
       "<table border=\"1\" class=\"dataframe\">\n",
       "  <thead>\n",
       "    <tr style=\"text-align: right;\">\n",
       "      <th></th>\n",
       "      <th>population</th>\n",
       "      <th>householdsize</th>\n",
       "      <th>racepctblack</th>\n",
       "      <th>racePctWhite</th>\n",
       "      <th>racePctAsian</th>\n",
       "      <th>racePctHisp</th>\n",
       "      <th>agePct12t21</th>\n",
       "      <th>agePct12t29</th>\n",
       "      <th>agePct16t24</th>\n",
       "      <th>agePct65up</th>\n",
       "      <th>...</th>\n",
       "      <th>PctBornSameState</th>\n",
       "      <th>PctSameHouse85</th>\n",
       "      <th>PctSameCity85</th>\n",
       "      <th>PctSameState85</th>\n",
       "      <th>LandArea</th>\n",
       "      <th>PopDens</th>\n",
       "      <th>PctUsePubTrans</th>\n",
       "      <th>LemasPctOfficDrugUn</th>\n",
       "      <th>ViolentCrimesPerPop</th>\n",
       "      <th>highCrime</th>\n",
       "    </tr>\n",
       "  </thead>\n",
       "  <tbody>\n",
       "    <tr>\n",
       "      <th>0</th>\n",
       "      <td>0.19</td>\n",
       "      <td>0.33</td>\n",
       "      <td>0.02</td>\n",
       "      <td>0.90</td>\n",
       "      <td>0.12</td>\n",
       "      <td>0.17</td>\n",
       "      <td>0.34</td>\n",
       "      <td>0.47</td>\n",
       "      <td>0.29</td>\n",
       "      <td>0.32</td>\n",
       "      <td>...</td>\n",
       "      <td>0.42</td>\n",
       "      <td>0.50</td>\n",
       "      <td>0.51</td>\n",
       "      <td>0.64</td>\n",
       "      <td>0.12</td>\n",
       "      <td>0.26</td>\n",
       "      <td>0.20</td>\n",
       "      <td>0.32</td>\n",
       "      <td>0.20</td>\n",
       "      <td>True</td>\n",
       "    </tr>\n",
       "    <tr>\n",
       "      <th>1</th>\n",
       "      <td>0.00</td>\n",
       "      <td>0.16</td>\n",
       "      <td>0.12</td>\n",
       "      <td>0.74</td>\n",
       "      <td>0.45</td>\n",
       "      <td>0.07</td>\n",
       "      <td>0.26</td>\n",
       "      <td>0.59</td>\n",
       "      <td>0.35</td>\n",
       "      <td>0.27</td>\n",
       "      <td>...</td>\n",
       "      <td>0.50</td>\n",
       "      <td>0.34</td>\n",
       "      <td>0.60</td>\n",
       "      <td>0.52</td>\n",
       "      <td>0.02</td>\n",
       "      <td>0.12</td>\n",
       "      <td>0.45</td>\n",
       "      <td>0.00</td>\n",
       "      <td>0.67</td>\n",
       "      <td>True</td>\n",
       "    </tr>\n",
       "    <tr>\n",
       "      <th>2</th>\n",
       "      <td>0.00</td>\n",
       "      <td>0.42</td>\n",
       "      <td>0.49</td>\n",
       "      <td>0.56</td>\n",
       "      <td>0.17</td>\n",
       "      <td>0.04</td>\n",
       "      <td>0.39</td>\n",
       "      <td>0.47</td>\n",
       "      <td>0.28</td>\n",
       "      <td>0.32</td>\n",
       "      <td>...</td>\n",
       "      <td>0.49</td>\n",
       "      <td>0.54</td>\n",
       "      <td>0.67</td>\n",
       "      <td>0.56</td>\n",
       "      <td>0.01</td>\n",
       "      <td>0.21</td>\n",
       "      <td>0.02</td>\n",
       "      <td>0.00</td>\n",
       "      <td>0.43</td>\n",
       "      <td>True</td>\n",
       "    </tr>\n",
       "    <tr>\n",
       "      <th>3</th>\n",
       "      <td>0.04</td>\n",
       "      <td>0.77</td>\n",
       "      <td>1.00</td>\n",
       "      <td>0.08</td>\n",
       "      <td>0.12</td>\n",
       "      <td>0.10</td>\n",
       "      <td>0.51</td>\n",
       "      <td>0.50</td>\n",
       "      <td>0.34</td>\n",
       "      <td>0.21</td>\n",
       "      <td>...</td>\n",
       "      <td>0.30</td>\n",
       "      <td>0.73</td>\n",
       "      <td>0.64</td>\n",
       "      <td>0.65</td>\n",
       "      <td>0.02</td>\n",
       "      <td>0.39</td>\n",
       "      <td>0.28</td>\n",
       "      <td>0.00</td>\n",
       "      <td>0.12</td>\n",
       "      <td>True</td>\n",
       "    </tr>\n",
       "    <tr>\n",
       "      <th>4</th>\n",
       "      <td>0.01</td>\n",
       "      <td>0.55</td>\n",
       "      <td>0.02</td>\n",
       "      <td>0.95</td>\n",
       "      <td>0.09</td>\n",
       "      <td>0.05</td>\n",
       "      <td>0.38</td>\n",
       "      <td>0.38</td>\n",
       "      <td>0.23</td>\n",
       "      <td>0.36</td>\n",
       "      <td>...</td>\n",
       "      <td>0.72</td>\n",
       "      <td>0.64</td>\n",
       "      <td>0.61</td>\n",
       "      <td>0.53</td>\n",
       "      <td>0.04</td>\n",
       "      <td>0.09</td>\n",
       "      <td>0.02</td>\n",
       "      <td>0.00</td>\n",
       "      <td>0.03</td>\n",
       "      <td>False</td>\n",
       "    </tr>\n",
       "  </tbody>\n",
       "</table>\n",
       "<p>5 rows × 102 columns</p>\n",
       "</div>"
      ],
      "text/plain": [
       "   population  householdsize  racepctblack  racePctWhite  racePctAsian  \\\n",
       "0        0.19           0.33          0.02          0.90          0.12   \n",
       "1        0.00           0.16          0.12          0.74          0.45   \n",
       "2        0.00           0.42          0.49          0.56          0.17   \n",
       "3        0.04           0.77          1.00          0.08          0.12   \n",
       "4        0.01           0.55          0.02          0.95          0.09   \n",
       "\n",
       "   racePctHisp  agePct12t21  agePct12t29  agePct16t24  agePct65up    ...      \\\n",
       "0         0.17         0.34         0.47         0.29        0.32    ...       \n",
       "1         0.07         0.26         0.59         0.35        0.27    ...       \n",
       "2         0.04         0.39         0.47         0.28        0.32    ...       \n",
       "3         0.10         0.51         0.50         0.34        0.21    ...       \n",
       "4         0.05         0.38         0.38         0.23        0.36    ...       \n",
       "\n",
       "   PctBornSameState  PctSameHouse85  PctSameCity85  PctSameState85  LandArea  \\\n",
       "0              0.42            0.50           0.51            0.64      0.12   \n",
       "1              0.50            0.34           0.60            0.52      0.02   \n",
       "2              0.49            0.54           0.67            0.56      0.01   \n",
       "3              0.30            0.73           0.64            0.65      0.02   \n",
       "4              0.72            0.64           0.61            0.53      0.04   \n",
       "\n",
       "   PopDens  PctUsePubTrans  LemasPctOfficDrugUn  ViolentCrimesPerPop  \\\n",
       "0     0.26            0.20                 0.32                 0.20   \n",
       "1     0.12            0.45                 0.00                 0.67   \n",
       "2     0.21            0.02                 0.00                 0.43   \n",
       "3     0.39            0.28                 0.00                 0.12   \n",
       "4     0.09            0.02                 0.00                 0.03   \n",
       "\n",
       "   highCrime  \n",
       "0       True  \n",
       "1       True  \n",
       "2       True  \n",
       "3       True  \n",
       "4      False  \n",
       "\n",
       "[5 rows x 102 columns]"
      ]
     },
     "execution_count": 46,
     "metadata": {},
     "output_type": "execute_result"
    }
   ],
   "source": [
    "CummCrimeDd = CummCrimeDd.dropna(axis=1,thresh = 1000)\n",
    "CummCrimeDd.head()"
   ]
  },
  {
   "cell_type": "code",
   "execution_count": 47,
   "metadata": {
    "collapsed": false
   },
   "outputs": [
    {
     "data": {
      "text/plain": [
       "<matplotlib.axes._subplots.AxesSubplot at 0x1c79bd5f390>"
      ]
     },
     "execution_count": 47,
     "metadata": {},
     "output_type": "execute_result"
    },
    {
     "data": {
      "image/png": "[encoded data removed]",
      "text/plain": [
       "<matplotlib.figure.Figure at 0x1c79bd5fdd8>"
      ]
     },
     "metadata": {},
     "output_type": "display_data"
    }
   ],
   "source": [
    "plt.figure(figsize=(18, 8))\n",
    "sns.heatmap(CummCrimeDd.isnull(),yticklabels=False,cbar=False,cmap='viridis')"
   ]
  },
  {
   "cell_type": "markdown",
   "metadata": {},
   "source": [
    "Imputing mean in place of single missing values"
   ]
  },
  {
   "cell_type": "code",
   "execution_count": 48,
   "metadata": {
    "collapsed": false
   },
   "outputs": [
    {
     "name": "stdout",
     "output_type": "stream",
     "text": [
      "Total number of missing values: 1\n"
     ]
    },
    {
     "data": {
      "text/plain": [
       "population               False\n",
       "householdsize            False\n",
       "racepctblack             False\n",
       "racePctWhite             False\n",
       "racePctAsian             False\n",
       "racePctHisp              False\n",
       "agePct12t21              False\n",
       "agePct12t29              False\n",
       "agePct16t24              False\n",
       "agePct65up               False\n",
       "numbUrban                False\n",
       "pctUrban                 False\n",
       "medIncome                False\n",
       "pctWWage                 False\n",
       "pctWFarmSelf             False\n",
       "pctWInvInc               False\n",
       "pctWSocSec               False\n",
       "pctWPubAsst              False\n",
       "pctWRetire               False\n",
       "medFamInc                False\n",
       "perCapInc                False\n",
       "whitePerCap              False\n",
       "blackPerCap              False\n",
       "indianPerCap             False\n",
       "AsianPerCap              False\n",
       "OtherPerCap               True\n",
       "HispPerCap               False\n",
       "NumUnderPov              False\n",
       "PctPopUnderPov           False\n",
       "PctLess9thGrade          False\n",
       "                         ...  \n",
       "PctHousOccup             False\n",
       "PctHousOwnOcc            False\n",
       "PctVacantBoarded         False\n",
       "PctVacMore6Mos           False\n",
       "MedYrHousBuilt           False\n",
       "PctHousNoPhone           False\n",
       "PctWOFullPlumb           False\n",
       "OwnOccLowQuart           False\n",
       "OwnOccMedVal             False\n",
       "OwnOccHiQuart            False\n",
       "RentLowQ                 False\n",
       "RentMedian               False\n",
       "RentHighQ                False\n",
       "MedRent                  False\n",
       "MedRentPctHousInc        False\n",
       "MedOwnCostPctInc         False\n",
       "MedOwnCostPctIncNoMtg    False\n",
       "NumInShelters            False\n",
       "NumStreet                False\n",
       "PctForeignBorn           False\n",
       "PctBornSameState         False\n",
       "PctSameHouse85           False\n",
       "PctSameCity85            False\n",
       "PctSameState85           False\n",
       "LandArea                 False\n",
       "PopDens                  False\n",
       "PctUsePubTrans           False\n",
       "LemasPctOfficDrugUn      False\n",
       "ViolentCrimesPerPop      False\n",
       "highCrime                False\n",
       "dtype: bool"
      ]
     },
     "execution_count": 48,
     "metadata": {},
     "output_type": "execute_result"
    }
   ],
   "source": [
    "print(\"Total number of missing values:\",sum(CummCrimeDd.isnull().any()))\n",
    "CummCrimeDd.isnull().any()"
   ]
  },
  {
   "cell_type": "code",
   "execution_count": 49,
   "metadata": {
    "collapsed": false
   },
   "outputs": [],
   "source": [
    "imp = Imputer(missing_values='NaN', strategy='mean', axis=0)\n",
    "CummCrimeDd[\"OtherPerCap\"] = imp.fit_transform(CummCrimeDd[[\"OtherPerCap\"]]).ravel()"
   ]
  },
  {
   "cell_type": "code",
   "execution_count": 50,
   "metadata": {
    "collapsed": false
   },
   "outputs": [
    {
     "data": {
      "text/plain": [
       "0"
      ]
     },
     "execution_count": 50,
     "metadata": {},
     "output_type": "execute_result"
    }
   ],
   "source": [
    "sum(CummCrimeDd.isnull().any())"
   ]
  },
  {
   "cell_type": "code",
   "execution_count": 51,
   "metadata": {
    "collapsed": false
   },
   "outputs": [],
   "source": [
    "dtree1 = DecisionTreeClassifier()\n",
    "x = CummCrimeDd.drop(['highCrime','ViolentCrimesPerPop'],axis=1)\n",
    "y = CummCrimeDd['highCrime']\n",
    "\n",
    "dtree1.fit(x,y)\n",
    "predictions2 = dtree1.predict(x)"
   ]
  },
  {
   "cell_type": "code",
   "execution_count": 52,
   "metadata": {
    "collapsed": false
   },
   "outputs": [
    {
     "name": "stdout",
     "output_type": "stream",
     "text": [
      "             precision    recall  f1-score   support\n",
      "\n",
      "      False       1.00      1.00      1.00       743\n",
      "       True       1.00      1.00      1.00      1251\n",
      "\n",
      "avg / total       1.00      1.00      1.00      1994\n",
      "\n"
     ]
    }
   ],
   "source": [
    "print(classification_report(y,predictions2))"
   ]
  },
  {
   "cell_type": "code",
   "execution_count": 53,
   "metadata": {
    "collapsed": false
   },
   "outputs": [
    {
     "name": "stdout",
     "output_type": "stream",
     "text": [
      "[[ 743    0]\n",
      " [   0 1251]]\n"
     ]
    }
   ],
   "source": [
    "print(confusion_matrix(y,predictions2))"
   ]
  },
  {
   "cell_type": "code",
   "execution_count": 54,
   "metadata": {
    "collapsed": false
   },
   "outputs": [
    {
     "name": "stdout",
     "output_type": "stream",
     "text": [
      "1.0\n"
     ]
    }
   ],
   "source": [
    "print(accuracy_score(y,predictions2))"
   ]
  },
  {
   "cell_type": "code",
   "execution_count": 55,
   "metadata": {
    "collapsed": false
   },
   "outputs": [
    {
     "data": {
      "text/html": [
       "<div>\n",
       "<table border=\"1\" class=\"dataframe\">\n",
       "  <thead>\n",
       "    <tr style=\"text-align: right;\">\n",
       "      <th></th>\n",
       "      <th>Importance</th>\n",
       "    </tr>\n",
       "  </thead>\n",
       "  <tbody>\n",
       "    <tr>\n",
       "      <th>PctKids2Par</th>\n",
       "      <td>0.358796</td>\n",
       "    </tr>\n",
       "    <tr>\n",
       "      <th>racePctWhite</th>\n",
       "      <td>0.088836</td>\n",
       "    </tr>\n",
       "    <tr>\n",
       "      <th>racePctHisp</th>\n",
       "      <td>0.045107</td>\n",
       "    </tr>\n",
       "    <tr>\n",
       "      <th>PctEmplManu</th>\n",
       "      <td>0.021310</td>\n",
       "    </tr>\n",
       "    <tr>\n",
       "      <th>PctLess9thGrade</th>\n",
       "      <td>0.018734</td>\n",
       "    </tr>\n",
       "    <tr>\n",
       "      <th>PctImmigRec10</th>\n",
       "      <td>0.013921</td>\n",
       "    </tr>\n",
       "    <tr>\n",
       "      <th>HispPerCap</th>\n",
       "      <td>0.013720</td>\n",
       "    </tr>\n",
       "    <tr>\n",
       "      <th>MedRent</th>\n",
       "      <td>0.013364</td>\n",
       "    </tr>\n",
       "    <tr>\n",
       "      <th>PctWOFullPlumb</th>\n",
       "      <td>0.013072</td>\n",
       "    </tr>\n",
       "    <tr>\n",
       "      <th>PctPopUnderPov</th>\n",
       "      <td>0.012522</td>\n",
       "    </tr>\n",
       "  </tbody>\n",
       "</table>\n",
       "</div>"
      ],
      "text/plain": [
       "                 Importance\n",
       "PctKids2Par        0.358796\n",
       "racePctWhite       0.088836\n",
       "racePctHisp        0.045107\n",
       "PctEmplManu        0.021310\n",
       "PctLess9thGrade    0.018734\n",
       "PctImmigRec10      0.013921\n",
       "HispPerCap         0.013720\n",
       "MedRent            0.013364\n",
       "PctWOFullPlumb     0.013072\n",
       "PctPopUnderPov     0.012522"
      ]
     },
     "execution_count": 55,
     "metadata": {},
     "output_type": "execute_result"
    }
   ],
   "source": [
    "impFeatures4 = pd.DataFrame(dtree1.feature_importances_ ,index=x.columns,columns=['Importance']).sort_values(by='Importance',ascending=False)\n",
    "impFeatures4.head(10)"
   ]
  },
  {
   "cell_type": "code",
   "execution_count": 56,
   "metadata": {
    "collapsed": false
   },
   "outputs": [
    {
     "data": {
      "text/plain": [
       "DecisionTreeClassifier(class_weight=None, criterion='gini', max_depth=None,\n",
       "            max_features=None, max_leaf_nodes=None,\n",
       "            min_impurity_split=1e-07, min_samples_leaf=1,\n",
       "            min_samples_split=2, min_weight_fraction_leaf=0.0,\n",
       "            presort=False, random_state=None, splitter='best')"
      ]
     },
     "execution_count": 56,
     "metadata": {},
     "output_type": "execute_result"
    }
   ],
   "source": [
    "d = {'True': 1, 'False': 0}\n",
    "CummCrimeDd['highCrime'] = CummCrimeDd['highCrime'].map(d)\n",
    "\n",
    "x = CummCrimeDd.drop(['highCrime','ViolentCrimesPerPop'],axis=1)\n",
    "y = CummCrimeDd['highCrime']\n",
    "dtree1 = DecisionTreeClassifier()\n",
    "dtree1.fit(x,y)"
   ]
  },
  {
   "cell_type": "code",
   "execution_count": 57,
   "metadata": {
    "collapsed": false
   },
   "outputs": [
    {
     "name": "stdout",
     "output_type": "stream",
     "text": [
      "Accuracy: 0.76 (+/- 0.05)\n",
      "Precision: 0.81 (+/- 0.06)\n",
      "Recall: 0.79 (+/- 0.09)\n"
     ]
    }
   ],
   "source": [
    "print(\"Accuracy: %0.2f (+/- %0.2f)\" % (cross_val_score(dtree1,x,y,scoring = 'accuracy',cv = 10).mean(), cross_val_score(dtree1,x,y,scoring = 'accuracy',cv = 10).std() * 2))\n",
    "print(\"Precision: %0.2f (+/- %0.2f)\" % (cross_val_score(dtree1,x,y,scoring = 'precision',cv = 10).mean(), cross_val_score(dtree1,x,y,scoring = 'precision',cv = 10).std() * 2))\n",
    "print(\"Recall: %0.2f (+/- %0.2f)\" % (cross_val_score(dtree1,x,y,scoring = 'recall',cv = 10).mean(), cross_val_score(dtree1,x,y,scoring = 'recall',cv = 10).std() * 2))"
   ]
  },
  {
   "cell_type": "markdown",
   "metadata": {},
   "source": [
    "##### a).Are the CV results better or worse?\n",
    "On comparison of Accuracy, Precision and Recall of the clean dataset and the scores from above dirty dataset, The Scores have improved. The reason is when handling the missing data by removing the columns which has more than 1000 missing values, we used imputing to fill out the missing values and we have more information(few) to classify the tree unlike the clean dataset where eliminated the missing values. Thus we have obtained better Accuracy, Precision and Recall scores."
   ]
  },
  {
   "cell_type": "markdown",
   "metadata": {},
   "source": [
    "# Extra Credit"
   ]
  },
  {
   "cell_type": "markdown",
   "metadata": {},
   "source": [
    "### 6)a.Logistic Regression"
   ]
  },
  {
   "cell_type": "code",
   "execution_count": 58,
   "metadata": {
    "collapsed": false
   },
   "outputs": [
    {
     "data": {
      "text/html": [
       "<div>\n",
       "<table border=\"1\" class=\"dataframe\">\n",
       "  <thead>\n",
       "    <tr style=\"text-align: right;\">\n",
       "      <th></th>\n",
       "      <th>population</th>\n",
       "      <th>householdsize</th>\n",
       "      <th>racepctblack</th>\n",
       "      <th>racePctWhite</th>\n",
       "      <th>racePctAsian</th>\n",
       "      <th>racePctHisp</th>\n",
       "      <th>agePct12t21</th>\n",
       "      <th>agePct12t29</th>\n",
       "      <th>agePct16t24</th>\n",
       "      <th>agePct65up</th>\n",
       "      <th>...</th>\n",
       "      <th>PctBornSameState</th>\n",
       "      <th>PctSameHouse85</th>\n",
       "      <th>PctSameCity85</th>\n",
       "      <th>PctSameState85</th>\n",
       "      <th>LandArea</th>\n",
       "      <th>PopDens</th>\n",
       "      <th>PctUsePubTrans</th>\n",
       "      <th>LemasPctOfficDrugUn</th>\n",
       "      <th>ViolentCrimesPerPop</th>\n",
       "      <th>highCrime</th>\n",
       "    </tr>\n",
       "  </thead>\n",
       "  <tbody>\n",
       "    <tr>\n",
       "      <th>0</th>\n",
       "      <td>0.01</td>\n",
       "      <td>0.61</td>\n",
       "      <td>0.21</td>\n",
       "      <td>0.83</td>\n",
       "      <td>0.02</td>\n",
       "      <td>0.01</td>\n",
       "      <td>0.41</td>\n",
       "      <td>0.49</td>\n",
       "      <td>0.26</td>\n",
       "      <td>0.21</td>\n",
       "      <td>...</td>\n",
       "      <td>0.70</td>\n",
       "      <td>0.40</td>\n",
       "      <td>0.34</td>\n",
       "      <td>0.57</td>\n",
       "      <td>0.05</td>\n",
       "      <td>0.06</td>\n",
       "      <td>0.01</td>\n",
       "      <td>0.0</td>\n",
       "      <td>0.06</td>\n",
       "      <td>0</td>\n",
       "    </tr>\n",
       "    <tr>\n",
       "      <th>1</th>\n",
       "      <td>0.01</td>\n",
       "      <td>0.41</td>\n",
       "      <td>0.55</td>\n",
       "      <td>0.57</td>\n",
       "      <td>0.01</td>\n",
       "      <td>0.00</td>\n",
       "      <td>0.47</td>\n",
       "      <td>0.45</td>\n",
       "      <td>0.31</td>\n",
       "      <td>0.57</td>\n",
       "      <td>...</td>\n",
       "      <td>0.93</td>\n",
       "      <td>0.66</td>\n",
       "      <td>0.82</td>\n",
       "      <td>0.84</td>\n",
       "      <td>0.11</td>\n",
       "      <td>0.03</td>\n",
       "      <td>0.01</td>\n",
       "      <td>0.0</td>\n",
       "      <td>0.14</td>\n",
       "      <td>1</td>\n",
       "    </tr>\n",
       "    <tr>\n",
       "      <th>2</th>\n",
       "      <td>0.03</td>\n",
       "      <td>0.34</td>\n",
       "      <td>0.86</td>\n",
       "      <td>0.30</td>\n",
       "      <td>0.04</td>\n",
       "      <td>0.01</td>\n",
       "      <td>0.41</td>\n",
       "      <td>0.42</td>\n",
       "      <td>0.27</td>\n",
       "      <td>0.59</td>\n",
       "      <td>...</td>\n",
       "      <td>0.77</td>\n",
       "      <td>0.59</td>\n",
       "      <td>0.70</td>\n",
       "      <td>0.64</td>\n",
       "      <td>0.06</td>\n",
       "      <td>0.11</td>\n",
       "      <td>0.04</td>\n",
       "      <td>0.0</td>\n",
       "      <td>1.00</td>\n",
       "      <td>1</td>\n",
       "    </tr>\n",
       "    <tr>\n",
       "      <th>3</th>\n",
       "      <td>0.01</td>\n",
       "      <td>0.38</td>\n",
       "      <td>0.35</td>\n",
       "      <td>0.71</td>\n",
       "      <td>0.04</td>\n",
       "      <td>0.01</td>\n",
       "      <td>0.39</td>\n",
       "      <td>0.46</td>\n",
       "      <td>0.31</td>\n",
       "      <td>0.49</td>\n",
       "      <td>...</td>\n",
       "      <td>0.78</td>\n",
       "      <td>0.56</td>\n",
       "      <td>0.67</td>\n",
       "      <td>0.71</td>\n",
       "      <td>0.09</td>\n",
       "      <td>0.05</td>\n",
       "      <td>0.00</td>\n",
       "      <td>0.0</td>\n",
       "      <td>0.23</td>\n",
       "      <td>1</td>\n",
       "    </tr>\n",
       "    <tr>\n",
       "      <th>4</th>\n",
       "      <td>0.04</td>\n",
       "      <td>0.37</td>\n",
       "      <td>0.32</td>\n",
       "      <td>0.70</td>\n",
       "      <td>0.21</td>\n",
       "      <td>0.02</td>\n",
       "      <td>1.00</td>\n",
       "      <td>1.00</td>\n",
       "      <td>1.00</td>\n",
       "      <td>0.14</td>\n",
       "      <td>...</td>\n",
       "      <td>0.49</td>\n",
       "      <td>0.12</td>\n",
       "      <td>0.00</td>\n",
       "      <td>0.15</td>\n",
       "      <td>0.09</td>\n",
       "      <td>0.09</td>\n",
       "      <td>0.01</td>\n",
       "      <td>0.0</td>\n",
       "      <td>0.15</td>\n",
       "      <td>1</td>\n",
       "    </tr>\n",
       "  </tbody>\n",
       "</table>\n",
       "<p>5 rows × 102 columns</p>\n",
       "</div>"
      ],
      "text/plain": [
       "   population  householdsize  racepctblack  racePctWhite  racePctAsian  \\\n",
       "0        0.01           0.61          0.21          0.83          0.02   \n",
       "1        0.01           0.41          0.55          0.57          0.01   \n",
       "2        0.03           0.34          0.86          0.30          0.04   \n",
       "3        0.01           0.38          0.35          0.71          0.04   \n",
       "4        0.04           0.37          0.32          0.70          0.21   \n",
       "\n",
       "   racePctHisp  agePct12t21  agePct12t29  agePct16t24  agePct65up    ...      \\\n",
       "0         0.01         0.41         0.49         0.26        0.21    ...       \n",
       "1         0.00         0.47         0.45         0.31        0.57    ...       \n",
       "2         0.01         0.41         0.42         0.27        0.59    ...       \n",
       "3         0.01         0.39         0.46         0.31        0.49    ...       \n",
       "4         0.02         1.00         1.00         1.00        0.14    ...       \n",
       "\n",
       "   PctBornSameState  PctSameHouse85  PctSameCity85  PctSameState85  LandArea  \\\n",
       "0              0.70            0.40           0.34            0.57      0.05   \n",
       "1              0.93            0.66           0.82            0.84      0.11   \n",
       "2              0.77            0.59           0.70            0.64      0.06   \n",
       "3              0.78            0.56           0.67            0.71      0.09   \n",
       "4              0.49            0.12           0.00            0.15      0.09   \n",
       "\n",
       "   PopDens  PctUsePubTrans  LemasPctOfficDrugUn  ViolentCrimesPerPop  \\\n",
       "0     0.06            0.01                  0.0                 0.06   \n",
       "1     0.03            0.01                  0.0                 0.14   \n",
       "2     0.11            0.04                  0.0                 1.00   \n",
       "3     0.05            0.00                  0.0                 0.23   \n",
       "4     0.09            0.01                  0.0                 0.15   \n",
       "\n",
       "   highCrime  \n",
       "0          0  \n",
       "1          1  \n",
       "2          1  \n",
       "3          1  \n",
       "4          1  \n",
       "\n",
       "[5 rows x 102 columns]"
      ]
     },
     "execution_count": 58,
     "metadata": {},
     "output_type": "execute_result"
    }
   ],
   "source": [
    "from sklearn.linear_model import LogisticRegression\n",
    "\n",
    "CummCrime = pd.read_csv('communitiescrimeclean.csv')\n",
    "CummCrime = CummCrime.drop(['state','communityname','fold'],axis=1)\n",
    "\n",
    "crimeRate = []\n",
    "for rows in CummCrime['ViolentCrimesPerPop']:\n",
    "    if rows > 0.1:\n",
    "        crimeRate.append(1)\n",
    "    else:\n",
    "        crimeRate.append(0)\n",
    "        \n",
    "CummCrime['highCrime'] = crimeRate\n",
    "CummCrime.head()\n"
   ]
  },
  {
   "cell_type": "markdown",
   "metadata": {},
   "source": [
    "#### Clean Data"
   ]
  },
  {
   "cell_type": "code",
   "execution_count": 59,
   "metadata": {
    "collapsed": false
   },
   "outputs": [
    {
     "data": {
      "text/plain": [
       "LogisticRegression(C=1.0, class_weight=None, dual=False, fit_intercept=True,\n",
       "          intercept_scaling=1, max_iter=100, multi_class='ovr', n_jobs=1,\n",
       "          penalty='l2', random_state=None, solver='liblinear', tol=0.0001,\n",
       "          verbose=0, warm_start=False)"
      ]
     },
     "execution_count": 59,
     "metadata": {},
     "output_type": "execute_result"
    }
   ],
   "source": [
    "x = CummCrime.drop(['highCrime','ViolentCrimesPerPop'],axis=1)\n",
    "y = CummCrime['highCrime']\n",
    "logmodel = LogisticRegression()\n",
    "logmodel.fit(x,y)"
   ]
  },
  {
   "cell_type": "code",
   "execution_count": 60,
   "metadata": {
    "collapsed": false
   },
   "outputs": [
    {
     "name": "stdout",
     "output_type": "stream",
     "text": [
      "Accuracy: 0.81 (+/- 0.11)\n",
      "Precision: 0.85 (+/- 0.10)\n",
      "Recall: 0.84 (+/- 0.23)\n"
     ]
    }
   ],
   "source": [
    "print(\"Accuracy: %0.2f (+/- %0.2f)\" % (cross_val_score(logmodel,x,y,scoring = 'accuracy',cv = 10).mean(), cross_val_score(logmodel,x,y,scoring = 'accuracy',cv = 10).std() * 2))\n",
    "print(\"Precision: %0.2f (+/- %0.2f)\" % (cross_val_score(logmodel,x,y,scoring = 'precision',cv = 10).mean(), cross_val_score(logmodel,x,y,scoring = 'precision',cv = 10).std() * 2))\n",
    "print(\"Recall: %0.2f (+/- %0.2f)\" % (cross_val_score(logmodel,x,y,scoring = 'recall',cv = 10).mean(), cross_val_score(logmodel,x,y,scoring = 'recall',cv = 10).std() * 2))"
   ]
  },
  {
   "cell_type": "code",
   "execution_count": 61,
   "metadata": {
    "collapsed": false
   },
   "outputs": [
    {
     "data": {
      "text/html": [
       "<div>\n",
       "<table border=\"1\" class=\"dataframe\">\n",
       "  <thead>\n",
       "    <tr style=\"text-align: right;\">\n",
       "      <th></th>\n",
       "      <th>coef</th>\n",
       "    </tr>\n",
       "  </thead>\n",
       "  <tbody>\n",
       "    <tr>\n",
       "      <th>racepctblack</th>\n",
       "      <td>2.405087</td>\n",
       "    </tr>\n",
       "    <tr>\n",
       "      <th>MalePctDivorce</th>\n",
       "      <td>1.405005</td>\n",
       "    </tr>\n",
       "    <tr>\n",
       "      <th>racePctHisp</th>\n",
       "      <td>1.348499</td>\n",
       "    </tr>\n",
       "    <tr>\n",
       "      <th>PctPersDenseHous</th>\n",
       "      <td>1.308388</td>\n",
       "    </tr>\n",
       "    <tr>\n",
       "      <th>PctIlleg</th>\n",
       "      <td>1.089460</td>\n",
       "    </tr>\n",
       "    <tr>\n",
       "      <th>TotalPctDiv</th>\n",
       "      <td>1.088767</td>\n",
       "    </tr>\n",
       "    <tr>\n",
       "      <th>HousVacant</th>\n",
       "      <td>1.072005</td>\n",
       "    </tr>\n",
       "    <tr>\n",
       "      <th>RentHighQ</th>\n",
       "      <td>1.003271</td>\n",
       "    </tr>\n",
       "    <tr>\n",
       "      <th>OtherPerCap</th>\n",
       "      <td>0.956995</td>\n",
       "    </tr>\n",
       "    <tr>\n",
       "      <th>MedRentPctHousInc</th>\n",
       "      <td>0.873664</td>\n",
       "    </tr>\n",
       "  </tbody>\n",
       "</table>\n",
       "</div>"
      ],
      "text/plain": [
       "                       coef\n",
       "racepctblack       2.405087\n",
       "MalePctDivorce     1.405005\n",
       "racePctHisp        1.348499\n",
       "PctPersDenseHous   1.308388\n",
       "PctIlleg           1.089460\n",
       "TotalPctDiv        1.088767\n",
       "HousVacant         1.072005\n",
       "RentHighQ          1.003271\n",
       "OtherPerCap        0.956995\n",
       "MedRentPctHousInc  0.873664"
      ]
     },
     "execution_count": 61,
     "metadata": {},
     "output_type": "execute_result"
    }
   ],
   "source": [
    "ImpFeatures5 = pd.DataFrame(logmodel.coef_[0],x.columns,columns=['coef']).sort_values(by='coef',ascending=0)\n",
    "ImpFeatures5.head(10)"
   ]
  },
  {
   "cell_type": "markdown",
   "metadata": {},
   "source": [
    "#### Full Data"
   ]
  },
  {
   "cell_type": "code",
   "execution_count": 62,
   "metadata": {
    "collapsed": false,
    "scrolled": true
   },
   "outputs": [
    {
     "data": {
      "text/plain": [
       "LogisticRegression(C=1.0, class_weight=None, dual=False, fit_intercept=True,\n",
       "          intercept_scaling=1, max_iter=100, multi_class='ovr', n_jobs=1,\n",
       "          penalty='l2', random_state=None, solver='liblinear', tol=0.0001,\n",
       "          verbose=0, warm_start=False)"
      ]
     },
     "execution_count": 62,
     "metadata": {},
     "output_type": "execute_result"
    }
   ],
   "source": [
    "x1 = CummCrimeDd.drop(['highCrime','ViolentCrimesPerPop'],axis=1)\n",
    "y1 = CummCrimeDd['highCrime']\n",
    "logmodel1 = LogisticRegression()\n",
    "logmodel1.fit(x,y)"
   ]
  },
  {
   "cell_type": "code",
   "execution_count": 63,
   "metadata": {
    "collapsed": false
   },
   "outputs": [
    {
     "name": "stdout",
     "output_type": "stream",
     "text": [
      "Accuracy: 0.84 (+/- 0.03)\n",
      "Precision: 0.87 (+/- 0.04)\n",
      "Recall: 0.87 (+/- 0.04)\n"
     ]
    }
   ],
   "source": [
    "print(\"Accuracy: %0.2f (+/- %0.2f)\" % (cross_val_score(logmodel1,x1,y1,scoring = 'accuracy',cv = 10).mean(), cross_val_score(logmodel1,x1,y1,scoring = 'accuracy',cv = 10).std() * 2))\n",
    "print(\"Precision: %0.2f (+/- %0.2f)\" % (cross_val_score(logmodel1,x1,y1,scoring = 'precision',cv = 10).mean(), cross_val_score(logmodel1,x1,y1,scoring = 'precision',cv = 10).std() * 2))\n",
    "print(\"Recall: %0.2f (+/- %0.2f)\" % (cross_val_score(logmodel1,x1,y1,scoring = 'recall',cv = 10).mean(), cross_val_score(logmodel1,x1,y1,scoring = 'recall',cv = 10).std() * 2))"
   ]
  },
  {
   "cell_type": "code",
   "execution_count": 64,
   "metadata": {
    "collapsed": false
   },
   "outputs": [
    {
     "data": {
      "text/html": [
       "<div>\n",
       "<table border=\"1\" class=\"dataframe\">\n",
       "  <thead>\n",
       "    <tr style=\"text-align: right;\">\n",
       "      <th></th>\n",
       "      <th>coef</th>\n",
       "    </tr>\n",
       "  </thead>\n",
       "  <tbody>\n",
       "    <tr>\n",
       "      <th>racepctblack</th>\n",
       "      <td>2.405087</td>\n",
       "    </tr>\n",
       "    <tr>\n",
       "      <th>MalePctDivorce</th>\n",
       "      <td>1.405005</td>\n",
       "    </tr>\n",
       "    <tr>\n",
       "      <th>racePctHisp</th>\n",
       "      <td>1.348499</td>\n",
       "    </tr>\n",
       "    <tr>\n",
       "      <th>PctPersDenseHous</th>\n",
       "      <td>1.308388</td>\n",
       "    </tr>\n",
       "    <tr>\n",
       "      <th>PctIlleg</th>\n",
       "      <td>1.089460</td>\n",
       "    </tr>\n",
       "    <tr>\n",
       "      <th>TotalPctDiv</th>\n",
       "      <td>1.088767</td>\n",
       "    </tr>\n",
       "    <tr>\n",
       "      <th>HousVacant</th>\n",
       "      <td>1.072005</td>\n",
       "    </tr>\n",
       "    <tr>\n",
       "      <th>RentHighQ</th>\n",
       "      <td>1.003271</td>\n",
       "    </tr>\n",
       "    <tr>\n",
       "      <th>OtherPerCap</th>\n",
       "      <td>0.956995</td>\n",
       "    </tr>\n",
       "    <tr>\n",
       "      <th>MedRentPctHousInc</th>\n",
       "      <td>0.873664</td>\n",
       "    </tr>\n",
       "  </tbody>\n",
       "</table>\n",
       "</div>"
      ],
      "text/plain": [
       "                       coef\n",
       "racepctblack       2.405087\n",
       "MalePctDivorce     1.405005\n",
       "racePctHisp        1.348499\n",
       "PctPersDenseHous   1.308388\n",
       "PctIlleg           1.089460\n",
       "TotalPctDiv        1.088767\n",
       "HousVacant         1.072005\n",
       "RentHighQ          1.003271\n",
       "OtherPerCap        0.956995\n",
       "MedRentPctHousInc  0.873664"
      ]
     },
     "execution_count": 64,
     "metadata": {},
     "output_type": "execute_result"
    }
   ],
   "source": [
    "ImpFeatures6 = pd.DataFrame(logmodel1.coef_[0],x1.columns,columns=['coef']).sort_values(by='coef',ascending=0)\n",
    "ImpFeatures6.head(10)"
   ]
  },
  {
   "cell_type": "markdown",
   "metadata": {},
   "source": [
    "### Non linear kernal"
   ]
  },
  {
   "cell_type": "code",
   "execution_count": 65,
   "metadata": {
    "collapsed": false
   },
   "outputs": [
    {
     "data": {
      "text/plain": [
       "SVC(C=1.0, cache_size=200, class_weight=None, coef0=0.0,\n",
       "  decision_function_shape=None, degree=2, gamma='auto', kernel='poly',\n",
       "  max_iter=-1, probability=False, random_state=None, shrinking=True,\n",
       "  tol=0.001, verbose=False)"
      ]
     },
     "execution_count": 65,
     "metadata": {},
     "output_type": "execute_result"
    }
   ],
   "source": [
    "from sklearn.svm import SVC\n",
    "\n",
    "nlSVC = SVC(kernel='poly',degree=2)\n",
    "nlSVC.fit(x,y)"
   ]
  },
  {
   "cell_type": "code",
   "execution_count": 66,
   "metadata": {
    "collapsed": false
   },
   "outputs": [
    {
     "name": "stdout",
     "output_type": "stream",
     "text": [
      "Accuracy: 0.78 (+/- 0.10)\n",
      "Precision: 0.79 (+/- 0.11)\n",
      "Recall: 0.90 (+/- 0.15)\n"
     ]
    }
   ],
   "source": [
    "print(\"Accuracy: %0.2f (+/- %0.2f)\" % (cross_val_score(nlSVC,x,y,scoring = 'accuracy',cv = 10).mean(), cross_val_score(nlSVC,x,y,scoring = 'accuracy',cv = 10).std() * 2))\n",
    "print(\"Precision: %0.2f (+/- %0.2f)\" % (cross_val_score(nlSVC,x,y,scoring = 'precision',cv = 10).mean(), cross_val_score(nlSVC,x,y,scoring = 'precision',cv = 10).std() * 2))\n",
    "print(\"Recall: %0.2f (+/- %0.2f)\" % (cross_val_score(nlSVC,x,y,scoring = 'recall',cv = 10).mean(), cross_val_score(nlSVC,x,y,scoring = 'recall',cv = 10).std() * 2))"
   ]
  },
  {
   "cell_type": "markdown",
   "metadata": {},
   "source": [
    "#### Full data"
   ]
  },
  {
   "cell_type": "code",
   "execution_count": 68,
   "metadata": {
    "collapsed": false
   },
   "outputs": [
    {
     "name": "stdout",
     "output_type": "stream",
     "text": [
      "Accuracy: 0.80 (+/- 0.03)\n",
      "Precision: 0.79 (+/- 0.04)\n",
      "Recall: 0.92 (+/- 0.03)\n"
     ]
    }
   ],
   "source": [
    "nlSVC1 = SVC(kernel='poly',degree=2)\n",
    "nlSVC1.fit(x1,y1)\n",
    "print(\"Accuracy: %0.2f (+/- %0.2f)\" % (cross_val_score(nlSVC1,x1,y1,scoring = 'accuracy',cv = 10).mean(), cross_val_score(nlSVC1,x1,y1,scoring = 'accuracy',cv = 10).std() * 2))\n",
    "print(\"Precision: %0.2f (+/- %0.2f)\" % (cross_val_score(nlSVC1,x1,y1,scoring = 'precision',cv = 10).mean(), cross_val_score(nlSVC1,x1,y1,scoring = 'precision',cv = 10).std() * 2))\n",
    "print(\"Recall: %0.2f (+/- %0.2f)\" % (cross_val_score(nlSVC1,x1,y1,scoring = 'recall',cv = 10).mean(), cross_val_score(nlSVC1,x1,y1,scoring = 'recall',cv = 10).std() * 2))"
   ]
  },
  {
   "cell_type": "markdown",
   "metadata": {},
   "source": [
    "#### ii) What method gives the best results?\n",
    "Logistic Regression is better than Non-Linear Kernel for SVM. as the accuracy, precision and score is better than previous."
   ]
  },
  {
   "cell_type": "markdown",
   "metadata": {},
   "source": [
    " ### 6)b.Random Forests"
   ]
  },
  {
   "cell_type": "code",
   "execution_count": 70,
   "metadata": {
    "collapsed": false
   },
   "outputs": [
    {
     "data": {
      "text/plain": [
       "RandomForestClassifier(bootstrap=True, class_weight=None, criterion='gini',\n",
       "            max_depth=None, max_features='auto', max_leaf_nodes=None,\n",
       "            min_impurity_split=1e-07, min_samples_leaf=1,\n",
       "            min_samples_split=2, min_weight_fraction_leaf=0.0,\n",
       "            n_estimators=100, n_jobs=1, oob_score=False, random_state=None,\n",
       "            verbose=0, warm_start=False)"
      ]
     },
     "execution_count": 70,
     "metadata": {},
     "output_type": "execute_result"
    }
   ],
   "source": [
    "from sklearn.ensemble import RandomForestClassifier\n",
    "rfc = RandomForestClassifier(n_estimators=100)\n",
    "rfc.fit(x, y)"
   ]
  },
  {
   "cell_type": "code",
   "execution_count": 71,
   "metadata": {
    "collapsed": false
   },
   "outputs": [
    {
     "name": "stdout",
     "output_type": "stream",
     "text": [
      "Accuracy: 0.81 (+/- 0.09)\n",
      "Precision: 0.85 (+/- 0.09)\n",
      "Recall: 0.84 (+/- 0.21)\n"
     ]
    }
   ],
   "source": [
    "print(\"Accuracy: %0.2f (+/- %0.2f)\" % (cross_val_score(rfc,x,y,scoring = 'accuracy',cv = 10).mean(), cross_val_score(rfc,x,y,scoring = 'accuracy',cv = 10).std() * 2))\n",
    "print(\"Precision: %0.2f (+/- %0.2f)\" % (cross_val_score(rfc,x,y,scoring = 'precision',cv = 10).mean(), cross_val_score(rfc,x,y,scoring = 'precision',cv = 10).std() * 2))\n",
    "print(\"Recall: %0.2f (+/- %0.2f)\" % (cross_val_score(rfc,x,y,scoring = 'recall',cv = 10).mean(), cross_val_score(rfc,x,y,scoring = 'recall',cv = 10).std() * 2))"
   ]
  },
  {
   "cell_type": "code",
   "execution_count": 72,
   "metadata": {
    "collapsed": false
   },
   "outputs": [
    {
     "data": {
      "text/html": [
       "<div>\n",
       "<table border=\"1\" class=\"dataframe\">\n",
       "  <thead>\n",
       "    <tr style=\"text-align: right;\">\n",
       "      <th></th>\n",
       "      <th>Importance</th>\n",
       "    </tr>\n",
       "  </thead>\n",
       "  <tbody>\n",
       "    <tr>\n",
       "      <th>racePctWhite</th>\n",
       "      <td>0.054189</td>\n",
       "    </tr>\n",
       "    <tr>\n",
       "      <th>PctKids2Par</th>\n",
       "      <td>0.051488</td>\n",
       "    </tr>\n",
       "    <tr>\n",
       "      <th>PctIlleg</th>\n",
       "      <td>0.050410</td>\n",
       "    </tr>\n",
       "    <tr>\n",
       "      <th>FemalePctDiv</th>\n",
       "      <td>0.040557</td>\n",
       "    </tr>\n",
       "    <tr>\n",
       "      <th>PctFam2Par</th>\n",
       "      <td>0.036064</td>\n",
       "    </tr>\n",
       "    <tr>\n",
       "      <th>TotalPctDiv</th>\n",
       "      <td>0.035593</td>\n",
       "    </tr>\n",
       "    <tr>\n",
       "      <th>NumIlleg</th>\n",
       "      <td>0.029730</td>\n",
       "    </tr>\n",
       "    <tr>\n",
       "      <th>NumUnderPov</th>\n",
       "      <td>0.027295</td>\n",
       "    </tr>\n",
       "    <tr>\n",
       "      <th>PctTeen2Par</th>\n",
       "      <td>0.025419</td>\n",
       "    </tr>\n",
       "    <tr>\n",
       "      <th>MalePctDivorce</th>\n",
       "      <td>0.024135</td>\n",
       "    </tr>\n",
       "  </tbody>\n",
       "</table>\n",
       "</div>"
      ],
      "text/plain": [
       "                Importance\n",
       "racePctWhite      0.054189\n",
       "PctKids2Par       0.051488\n",
       "PctIlleg          0.050410\n",
       "FemalePctDiv      0.040557\n",
       "PctFam2Par        0.036064\n",
       "TotalPctDiv       0.035593\n",
       "NumIlleg          0.029730\n",
       "NumUnderPov       0.027295\n",
       "PctTeen2Par       0.025419\n",
       "MalePctDivorce    0.024135"
      ]
     },
     "execution_count": 72,
     "metadata": {},
     "output_type": "execute_result"
    }
   ],
   "source": [
    "impFeatures8 = pd.DataFrame(rfc.feature_importances_ ,index=x.columns,columns=['Importance']).sort_values(by='Importance',ascending=False)\n",
    "impFeatures8.head(10)"
   ]
  },
  {
   "cell_type": "markdown",
   "metadata": {
    "collapsed": true
   },
   "source": [
    "### SVC with RBF Kernel"
   ]
  },
  {
   "cell_type": "code",
   "execution_count": 74,
   "metadata": {
    "collapsed": false
   },
   "outputs": [
    {
     "data": {
      "text/plain": [
       "SVC(C=1.0, cache_size=200, class_weight=None, coef0=0.0,\n",
       "  decision_function_shape=None, degree=3, gamma=0.6, kernel='rbf',\n",
       "  max_iter=-1, probability=False, random_state=None, shrinking=True,\n",
       "  tol=0.001, verbose=False)"
      ]
     },
     "execution_count": 74,
     "metadata": {},
     "output_type": "execute_result"
    }
   ],
   "source": [
    "from sklearn.svm import SVC\n",
    "rsvc = SVC(kernel='rbf',gamma=0.6)\n",
    "rsvc.fit(x,y)"
   ]
  },
  {
   "cell_type": "code",
   "execution_count": 75,
   "metadata": {
    "collapsed": false
   },
   "outputs": [
    {
     "name": "stdout",
     "output_type": "stream",
     "text": [
      "Accuracy: 0.77 (+/- 0.11)\n",
      "Precision: 0.82 (+/- 0.12)\n",
      "Recall: 0.83 (+/- 0.23)\n"
     ]
    }
   ],
   "source": [
    "print(\"Accuracy: %0.2f (+/- %0.2f)\" % (cross_val_score(rsvc,x,y,scoring = 'accuracy',cv = 10).mean(), cross_val_score(rsvc,x,y,scoring = 'accuracy',cv = 10).std() * 2))\n",
    "print(\"Precision: %0.2f (+/- %0.2f)\" % (cross_val_score(rsvc,x,y,scoring = 'precision',cv = 10).mean(), cross_val_score(rsvc,x,y,scoring = 'precision',cv = 10).std() * 2))\n",
    "print(\"Recall: %0.2f (+/- %0.2f)\" % (cross_val_score(rsvc,x,y,scoring = 'recall',cv = 10).mean(), cross_val_score(rsvc,x,y,scoring = 'recall',cv = 10).std() * 2))"
   ]
  },
  {
   "cell_type": "markdown",
   "metadata": {},
   "source": [
    "#### ii) What method gives the best results?\n",
    "\n",
    "SVC with RBF kernel is better than Random Forest Classifications. as the accuracy, precision and score is better than previous."
   ]
  },
  {
   "cell_type": "code",
   "execution_count": null,
   "metadata": {
    "collapsed": true
   },
   "outputs": [],
   "source": []
  }
 ],
 "metadata": {
  "anaconda-cloud": {},
  "kernelspec": {
   "display_name": "Python [default]",
   "language": "python",
   "name": "python3"
  },
  "language_info": {
   "codemirror_mode": {
    "name": "ipython",
    "version": 3
   },
   "file_extension": ".py",
   "mimetype": "text/x-python",
   "name": "python",
   "nbconvert_exporter": "python",
   "pygments_lexer": "ipython3",
   "version": "3.5.2"
  }
 },
 "nbformat": 4,
 "nbformat_minor": 1
}
